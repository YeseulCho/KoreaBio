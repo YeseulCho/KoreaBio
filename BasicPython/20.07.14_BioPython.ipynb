{
 "cells": [
  {
   "cell_type": "markdown",
   "metadata": {},
   "source": [
    "### 20.07.14_BioPython\n",
    "    일시 : 2020/07/14\n",
    "    강사님 : 김태윤 연구원님(마크로젠) \n",
    "    기록 : 조예슬\n",
    "    내용 : \n",
    "         - Data Structure\n",
    "         - 제어문"
   ]
  },
  {
   "cell_type": "code",
   "execution_count": 2,
   "metadata": {},
   "outputs": [
    {
     "name": "stdout",
     "output_type": "stream",
     "text": [
      "yellow apple\n",
      "red banana\n"
     ]
    }
   ],
   "source": [
    "# 1.  String splicing\n",
    "\n",
    "A='red apple'\n",
    "B='yellow banana'\n",
    "\n",
    "print(B[:6], A[4:])\n",
    "print(A[:3], B[7:])"
   ]
  },
  {
   "cell_type": "code",
   "execution_count": 3,
   "metadata": {},
   "outputs": [
    {
     "name": "stdout",
     "output_type": "stream",
     "text": [
      "Humpty mptyDu\n"
     ]
    }
   ],
   "source": [
    "# 2. String splicing2\n",
    "\n",
    "STR='HumptyDumptysatonawallHumptyDumptyhadagreatfallAlltheKingshorsesandalltheKingsmenCouldntputHumptyDumptyinhisplaceagain.'\n",
    "\n",
    "print(STR[22:28],STR[97:103])"
   ]
  },
  {
   "cell_type": "code",
   "execution_count": 4,
   "metadata": {},
   "outputs": [
    {
     "name": "stdout",
     "output_type": "stream",
     "text": [
      "A : 20\n",
      "G : 17\n",
      "C : 12\n",
      "T : 21\n"
     ]
    }
   ],
   "source": [
    "# 3. Counting DNA Nucleotides\n",
    "\n",
    "STR2='AGCTTTTCATTCTGACTGCAACGGGCAATATGTCTCTGTGTGGATTAAAAAAAGAGTGTCTGATAGCAGC'\n",
    "\n",
    "print(\"A :\", STR2.count('A'))\n",
    "print(\"G :\", STR2.count('G'))\n",
    "print(\"C :\", STR2.count('C'))\n",
    "print(\"T :\", STR2.count('T'))"
   ]
  },
  {
   "cell_type": "code",
   "execution_count": 5,
   "metadata": {},
   "outputs": [
    {
     "name": "stdout",
     "output_type": "stream",
     "text": [
      "RNA : GAUGGAACUUGACUACGUAAAUU\n"
     ]
    }
   ],
   "source": [
    "# 4. Transcribing DNA into RNA\n",
    "\n",
    "DNA='GATGGAACTTGACTACGTAAATT'\n",
    "\n",
    "print(\"RNA :\", DNA.replace('T','U'))"
   ]
  },
  {
   "cell_type": "code",
   "execution_count": 7,
   "metadata": {},
   "outputs": [
    {
     "name": "stdout",
     "output_type": "stream",
     "text": [
      "결과 : ACCGGGTTTT\n"
     ]
    }
   ],
   "source": [
    "# 5. Complementing a Strand of DNA-1\n",
    "\n",
    "DNA2 = 'AAAACCCGGT'\n",
    "ch_DNA2 = DNA2.replace('A','a').replace('C','c').replace('G','g').replace('T','t')\n",
    "ch_RNA2 = ch_DNA2.replace('a','T').replace('c','G').replace('g','C').replace('t','A')\n",
    "RNA2=ch_RNA2[::-1]\n",
    "\n",
    "print(\"결과 :\", RNA2)"
   ]
  },
  {
   "cell_type": "code",
   "execution_count": 20,
   "metadata": {},
   "outputs": [
    {
     "name": "stdout",
     "output_type": "stream",
     "text": [
      "결과 : ACCGGGTTTT\n"
     ]
    }
   ],
   "source": [
    "# 5. Complementing a Strand of DNA-2\n",
    "\n",
    "DNA3 = 'AAAACCCGGT'\n",
    "ch_DNA3 = DNA3.replace('A','t').replace('C','g').replace('G','c').replace    ('T','a').upper()\n",
    "RNA3=ch_DNA3[::-1]\n",
    "\n",
    "print(\"결과 :\", RNA3)"
   ]
  },
  {
   "cell_type": "code",
   "execution_count": null,
   "metadata": {},
   "outputs": [],
   "source": [
    "# 6. Complementing a Strand of DNA using Dictionary\n",
    "\n",
    "# DNA3 = 'AAAACCCGGT'\n",
    "# dic_DNA = {A:T, C:G, G:C, T:A}\n",
    "\n",
    "#### 매우복잡합"
   ]
  },
  {
   "cell_type": "code",
   "execution_count": null,
   "metadata": {},
   "outputs": [],
   "source": [
    "# conda activate py37\n",
    "# which python "
   ]
  },
  {
   "cell_type": "markdown",
   "metadata": {},
   "source": [
    "#### Data Structures\n",
    "    - Primitive\n",
    "        integer, Float, String, Boolean\n",
    "        : 기본적인 데이터를 저장하는 단위\n",
    "     - Non-Primitive\n",
    "         Array, List, Tuple, Dictionary, Set, File"
   ]
  },
  {
   "cell_type": "code",
   "execution_count": 13,
   "metadata": {},
   "outputs": [
    {
     "name": "stdout",
     "output_type": "stream",
     "text": [
      "Hi I'm 3 years old!\n",
      "Hello I'm 3 years old!\n",
      "I'm 3 years old!'\n",
      "55555 I'm 3 years old!\n"
     ]
    }
   ],
   "source": [
    "# 문자열 포맷팅 : {}, format 사용\n",
    "\n",
    "print(\"Hi I\\'m {0} years old!\".format(3))\n",
    "\n",
    "print(\"{1} I\\'m {0} years old!\".format(3, 'Hello'))\n",
    "\n",
    "print(\"I\\'m %d years old!'\"%3)\n",
    "\n",
    "# print(\"I\\'m %d years old!'\"%'3') # %d로 입력했으니 string으로 넣으면 먹히지 않음 \n",
    "\n",
    "print(\"{1} I\\'m {0} years old!\".format(3, '55555')) # 이건 string형태로 해도 먹힘"
   ]
  },
  {
   "cell_type": "code",
   "execution_count": 16,
   "metadata": {},
   "outputs": [
    {
     "name": "stdout",
     "output_type": "stream",
     "text": [
      "1234667\n",
      "1234667\n",
      "1234567100\n"
     ]
    }
   ],
   "source": [
    "## 예제 \n",
    "## comma를 제거하고 100을 더하기 \n",
    "\n",
    "CMA = '1,234,567'\n",
    "\n",
    "CMA2 = CMA.replace(',', '') # comma removal\n",
    "\n",
    "CMA3 = int(CMA2) # change type of CMA\n",
    "\n",
    "CMA4 = CMA3 + 100 # plus 100\n",
    "\n",
    "print(CMA4)\n",
    "\n",
    "\n",
    "# 한줄로 입력하면 / 현업에서는 위의 식으로 작성하는게 좋음(알아보기 쉽고, 수정하기 쉬우니까)\n",
    "\n",
    "CMA5 = int(CMA.replace(',', '')) + 100\n",
    "\n",
    "print(CMA5)\n",
    "\n",
    "\n",
    "# string으로 +100을 할 시에는 \n",
    "\n",
    "CMA6 = CMA2 + '100'\n",
    "\n",
    "print(CMA6) # 100이 뒤에 붙게된다"
   ]
  },
  {
   "cell_type": "markdown",
   "metadata": {},
   "source": [
    "#### List\n",
    "\n",
    "    여러 변수를 한꺼번에 관리할 수 있음 \n",
    "    \n",
    "    - 함수\n",
    "        append\n",
    "        remove\n",
    "        del\n",
    "        insert\n",
    "        pop"
   ]
  },
  {
   "cell_type": "code",
   "execution_count": 17,
   "metadata": {},
   "outputs": [],
   "source": [
    "## list 사용하지않을 때는 길고 불편함 \n",
    "coffee_class1 = 10\n",
    "coffee_class2 = 14\n",
    "coffee_class3 = 15\n",
    "# 추가시\n",
    "coffee_class4 = 5\n",
    "\n",
    "## list 사용\n",
    "coffee = [10, 14, 15]\n",
    "# list에 추가시\n",
    "coffee.append(5)"
   ]
  },
  {
   "cell_type": "code",
   "execution_count": 21,
   "metadata": {},
   "outputs": [
    {
     "name": "stdout",
     "output_type": "stream",
     "text": [
      "[10, 14, 15, 5]\n",
      "[10, 15, 5]\n",
      "[10, 15]\n",
      "[10, 15, 3]\n"
     ]
    }
   ],
   "source": [
    "## list\n",
    "coffee = [10, 14, 15]\n",
    "\n",
    "# append\n",
    "coffee.append(5)\n",
    "print(coffee)\n",
    "\n",
    "# remove : element의 값을 정확히 알고있어야함 \n",
    "coffee.remove(14)\n",
    "print(coffee)\n",
    "\n",
    "# coffee.remove(13) # list안에 들어있지 않으면 오류남\n",
    "\n",
    "# del : 인덱스 기반으로 list 삭제\n",
    "del coffee[2]\n",
    "print(coffee)\n",
    "\n",
    "# insert : 인덱스 기반으로 list 삽입\n",
    "coffee.insert(2, 3) # 2라는 인덱스에 3을 넣겠다\n",
    "print(coffee)"
   ]
  },
  {
   "cell_type": "code",
   "execution_count": 31,
   "metadata": {},
   "outputs": [
    {
     "name": "stdout",
     "output_type": "stream",
     "text": [
      "1\n",
      "2번 손님 오세요!\n",
      "[3, 4, 5]\n",
      "[3, 4, 5, 6]\n",
      "3번 손님 오세요!\n",
      "4번 손님 오세요!\n",
      "5번 손님 오세요!\n",
      "[6]\n",
      "<class 'int'>\n",
      "7\n",
      "[6, 7]\n"
     ]
    }
   ],
   "source": [
    "## list\n",
    "waiting = [1, 2, 3, 4, 5]\n",
    "\n",
    "# pop : 0을 넣으면 index 0번부터 pop 먹힘\n",
    "print(waiting.pop(0))\n",
    "\n",
    "print(\"{0}번 손님 오세요!\".format(waiting.pop(0)))\n",
    "\n",
    "print(waiting)\n",
    "\n",
    "waiting.append(6)\n",
    "\n",
    "print(waiting)\n",
    "\n",
    "print(\"{0}번 손님 오세요!\".format(waiting.pop(0)))\n",
    "print(\"{0}번 손님 오세요!\".format(waiting.pop(0)))\n",
    "print(\"{0}번 손님 오세요!\".format(waiting.pop(0)))\n",
    "print(waiting)\n",
    "\n",
    "# 손님 번호 겹치지 않도록 하기 \n",
    "print(type(waiting[-1]))\n",
    "\n",
    "last_wait = waiting[-1] + 1 # 마지막 번호에 +1 시키기\n",
    "print(last_wait)\n",
    "\n",
    "waiting.append(last_wait) # list에 번호 추가시키기\n",
    "print(waiting)\n",
    "\n",
    "print(\"{0}번 손님 오세요!\".format(waiting.pop(0)))"
   ]
  },
  {
   "cell_type": "code",
   "execution_count": 47,
   "metadata": {},
   "outputs": [
    {
     "name": "stdout",
     "output_type": "stream",
     "text": [
      "['Python', 'JAVA', 'C', 'C++', 'VB']\n"
     ]
    }
   ],
   "source": [
    "## 예제\n",
    "## lang0와 lang1의 원소를 모두 갖고 있는 totalLang 리스트를 만들어보세요\n",
    "lang0 = [\"Python\", \"JAVA\"]\n",
    "lang1 = [\"C\", \"C++\", \"VB\"]\n",
    "\n",
    "totalLang = lang0 + lang1\n",
    "\n",
    "print(totalLang) # 결과값 []로 나타남"
   ]
  },
  {
   "cell_type": "markdown",
   "metadata": {},
   "source": [
    "#### Tuple\n",
    "    - 값 수정, 삭제 불가 \n",
    "    - ()로 정의"
   ]
  },
  {
   "cell_type": "code",
   "execution_count": 46,
   "metadata": {},
   "outputs": [
    {
     "name": "stdout",
     "output_type": "stream",
     "text": [
      "('Python', 'JAVA', 'C', 'C++', 'VB')\n",
      "(1, 2, 5)\n"
     ]
    }
   ],
   "source": [
    "print(tuple(totalLang)) # 결과값 ()로 나타남, 값이 변경되지않음\n",
    "\n",
    "myTuple = (1, 2, 5)\n",
    "print(myTuple)"
   ]
  },
  {
   "cell_type": "markdown",
   "metadata": {},
   "source": [
    "#### Dictionary\n",
    "    - 형태 : {key:value}\n",
    "    - key가 중복되면 나중에 입력된 결과값만이 출력된다\n",
    "    - 함수\n",
    "        keys\n",
    "        values\n",
    "        items\n",
    "        clear\n",
    "        get\n",
    "        in"
   ]
  },
  {
   "cell_type": "code",
   "execution_count": 1,
   "metadata": {},
   "outputs": [
    {
     "name": "stdout",
     "output_type": "stream",
     "text": [
      "2000\n",
      "200\n",
      "three hundred\n",
      "dict_keys(['price', 'name', 'tree', 100, 300])\n",
      "True\n",
      "apple tree\n",
      "apple tree\n",
      "dict_values([2000, 'apple', 'apple tree', 200, 'three hundred'])\n",
      "False\n",
      "{'price': 2000, 'name': 'apple', 'tree': 'apple tree', 100: 200, 300: 'three hundred'}\n",
      "dict_items([('price', 2000), ('name', 'apple'), ('tree', 'apple tree'), (100, 200), (300, 'three hundred')])\n"
     ]
    }
   ],
   "source": [
    "## dictionary\n",
    "d_fruit = {'price':1000, 'name':'apple', 'price':2000, 'tree':'apple tree', \n",
    "           100:200, 300:'three hundred'}\n",
    "\n",
    "print(d_fruit['price'])\n",
    "print(d_fruit[100])\n",
    "print(d_fruit[300])\n",
    "\n",
    "# keys\n",
    "print(d_fruit.keys()) # list형태로 결과가 제시됨 \n",
    "\n",
    "# in\n",
    "# dictionary 안에 tree라는 key가 있는가?\n",
    "print('tree' in d_fruit.keys()) # true\n",
    "\n",
    "# get\n",
    "print(d_fruit['tree']) # apple tree\n",
    "print(d_fruit.get('tree')) # apple tree\n",
    "\n",
    "# values\n",
    "print(d_fruit.values())\n",
    "print(1000 in d_fruit.values())\n",
    "\n",
    "# items\n",
    "# dictionary 생긴거 확인 \n",
    "print(d_fruit)\n",
    "print(d_fruit.items()) #tuple로 묶인 list로 반환됨\n",
    "\n",
    "# clear\n",
    "print(d_fruit)\n",
    "print(d_fruit.clear()) # None # 반환값이 없다 \n",
    "print(d_fruit)"
   ]
  },
  {
   "cell_type": "code",
   "execution_count": 43,
   "metadata": {},
   "outputs": [
    {
     "name": "stdout",
     "output_type": "stream",
     "text": [
      "regNum0 :  Dec - 13\n",
      "regNum1 :  Jan - 25\n",
      "regNum2 :  Jul - 05\n"
     ]
    }
   ],
   "source": [
    "# 딕셔너리 활용 - int\n",
    "\"\"\"\n",
    "딕셔너리를 이용한 계산으로 생년월일중 월-일을 출력하세요\n",
    "regNum0 = 981213-000000\n",
    "regNum1 = 960125-000000\n",
    "regNum2 = 970705-000000\n",
    "\n",
    "출력값\n",
    "regNum0 : Dec-13\n",
    "regNum1 : Jan-25\n",
    "regNum2 : Jul-05\n",
    "\"\"\"\n",
    "\n",
    "d_reg = {'regNum0':'951213-000000', 'regNum1':'960125-000000', 'regNum2':'970705-000000'}\n",
    "d_month = {1:'Jan', 2:'Feb', 3:'Mar', 4:'Apr', 5:'May', 6:'Jun', \n",
    "           7:'Jul', 8:'Aug', 9:'Sep', 10:'Oct', 11:'Nov', 12:'Dec'}\n",
    "\n",
    "# regNum0\n",
    "Num0_m = d_month[int(d_reg['regNum0'][2:4])] \n",
    "Num0_d = d_reg['regNum0'][4:6]\n",
    "print(\"regNum0 : \", Num0_m, \"-\", Num0_d)\n",
    "\n",
    "# regNum1\n",
    "Num1_m = d_month[int(d_reg['regNum1'][2:4])] # d_month[d_reg['regNum1'][2:4].lstrip('0')]\n",
    "Num1_d = d_reg['regNum1'][4:6]\n",
    "print(\"regNum1 : \", Num1_m, \"-\", Num1_d)\n",
    "\n",
    "# regNum2\n",
    "Num2_m = d_month[int(d_reg['regNum2'][2:4])]\n",
    "Num2_d = d_reg['regNum2'][4:6]\n",
    "print(\"regNum2 : \", Num2_m, \"-\", Num2_d)"
   ]
  },
  {
   "cell_type": "code",
   "execution_count": 44,
   "metadata": {},
   "outputs": [
    {
     "name": "stdout",
     "output_type": "stream",
     "text": [
      "regNum0 :  Dec - 13\n",
      "regNum1 :  Jan - 25\n",
      "regNum2 :  Jul - 05\n"
     ]
    }
   ],
   "source": [
    "# 딕셔너리 활용 - str\n",
    "\"\"\"\n",
    "딕셔너리를 이용한 계산으로 생년월일중 월-일을 출력하세요\n",
    "regNum0 = 981213-000000\n",
    "regNum1 = 960125-000000\n",
    "regNum2 = 970705-000000\n",
    "\n",
    "출력값\n",
    "regNum0 : Dec-13\n",
    "regNum1 : Jan-25\n",
    "regNum2 : Jul-05\n",
    "\"\"\"\n",
    "\n",
    "d_reg = {'regNum0':'951213-000000', 'regNum1':'960125-000000', 'regNum2':'970705-000000'}\n",
    "d_Month = {'01':'Jan', '02':'Feb', '03':'Mar', '04':'Apr', '05':'May', '06':'Jun', \n",
    "           '07':'Jul', '08':'Aug', '09':'Sep', '10':'Oct', '11':'Nov', '12':'Dec'}\n",
    "\n",
    "# regNum0\n",
    "Num0_M = d_Month[d_reg['regNum0'][2:4]]\n",
    "Num0_D = d_reg['regNum0'][4:6]\n",
    "print(\"regNum0 : \", Num0_M, \"-\", Num0_D)\n",
    "\n",
    "# regNum1\n",
    "Num1_M = d_Month[d_reg['regNum1'][2:4]]\n",
    "Num1_D = d_reg['regNum1'][4:6]\n",
    "print(\"regNum1 : \", Num1_M, \"-\", Num1_D)\n",
    "\n",
    "# regNum2\n",
    "Num2_M = d_Month[d_reg['regNum2'][2:4]]\n",
    "Num2_D = d_reg['regNum2'][4:6]\n",
    "print(\"regNum2 : \", Num2_M, \"-\", Num2_D)"
   ]
  },
  {
   "cell_type": "markdown",
   "metadata": {},
   "source": [
    "#### 집합 (★set 코딩테스트에 항상 나옴)\n",
    "\n",
    "    중복 허용하지 않음 -> unique한 element를 가짐\n",
    "    순서 없음 -> 속도가 어어엄청 빠름\n",
    "    \n",
    "    set\n",
    "        {} 사용\n",
    "        \n",
    "    - 마크로젠 코딩테스트 -\n",
    "       파일 받아와서 넣기도 해야함\n",
    "       A교B B교C union하기 "
   ]
  },
  {
   "cell_type": "code",
   "execution_count": 49,
   "metadata": {},
   "outputs": [
    {
     "name": "stdout",
     "output_type": "stream",
     "text": [
      "{2, 4, 100, 6, 8, 10, 12}\n",
      "{3, 6, 9, 11, 12}\n",
      "{3, 6, 9, 11, 12, 30}\n",
      "{3, 6, 9, 11, 12, 30}\n"
     ]
    }
   ],
   "source": [
    "a = {2, 4, 6, 8, 10, 12}\n",
    "b = {3, 6, 9, 12}\n",
    "\n",
    "a |= {100}\n",
    "print(a)\n",
    "\n",
    "b.add(11)\n",
    "print(b)\n",
    "\n",
    "b.update({30}) # set {}으로 넣어줘야함\n",
    "print(b)\n",
    "\n",
    "b |= {30}\n",
    "print(b)"
   ]
  },
  {
   "cell_type": "markdown",
   "metadata": {},
   "source": [
    "#### 불리언\n",
    "\n",
    "    True, False\n",
    "    여기에는 값 지정 X\n",
    "\n",
    "    bool \n",
    "        비어있으면 False\n",
    "            bool(0)  False\n",
    "            bool('')  False \n",
    "            bool({})  False\n",
    "            "
   ]
  },
  {
   "cell_type": "code",
   "execution_count": 56,
   "metadata": {},
   "outputs": [
    {
     "data": {
      "text/plain": [
       "False"
      ]
     },
     "execution_count": 56,
     "metadata": {},
     "output_type": "execute_result"
    }
   ],
   "source": [
    "l_list = [1, 2, 3]\n",
    "l_list.pop(0)\n",
    "bool(l_list) # True\n",
    "l_list.pop(0)\n",
    "bool(l_list) # True\n",
    "l_list.pop(0)\n",
    "bool(l_list) # False : 비어있으니 "
   ]
  },
  {
   "cell_type": "markdown",
   "metadata": {},
   "source": [
    "## 제어문\n",
    "    \n",
    "    조건을 판단하여 작성자가 원하는 방식, 상황에 맞는 방식으로 수행하게 함\n",
    "    \n",
    "    if\n",
    "    while\n",
    "    for\n",
    "    \n",
    "    들여쓰기\n",
    "        tab or 4space (4space를 더 많이 씀)\n",
    "        같은 블록에서 혼용 불가 \n",
    "        vim 설정으로 tab -> 4 space 설정 가능"
   ]
  },
  {
   "cell_type": "markdown",
   "metadata": {},
   "source": [
    "#### input\n",
    "    사용자 입력을 받는 프롬프트를 출력함"
   ]
  },
  {
   "cell_type": "code",
   "execution_count": 57,
   "metadata": {},
   "outputs": [
    {
     "name": "stdout",
     "output_type": "stream",
     "text": [
      "Write your age: 2\n",
      "You are 2 years old.\n"
     ]
    }
   ],
   "source": [
    "userInput = input(\"Write your age: \")\n",
    "print(\"You are {0} years old.\".format(userInput))"
   ]
  },
  {
   "cell_type": "markdown",
   "metadata": {},
   "source": [
    "#### if"
   ]
  },
  {
   "cell_type": "code",
   "execution_count": 58,
   "metadata": {},
   "outputs": [
    {
     "name": "stdout",
     "output_type": "stream",
     "text": [
      "Hi\n"
     ]
    }
   ],
   "source": [
    "# if\n",
    "cond = 1 # True\n",
    "\n",
    "if cond : \n",
    "    print('Hi')"
   ]
  },
  {
   "cell_type": "code",
   "execution_count": 62,
   "metadata": {},
   "outputs": [
    {
     "name": "stdout",
     "output_type": "stream",
     "text": [
      "A\n",
      "B\n"
     ]
    }
   ],
   "source": [
    "# True\n",
    "cond = 1\n",
    "\n",
    "if cond :    \n",
    "    print(\"A\")\n",
    "    print(\"B\")"
   ]
  },
  {
   "cell_type": "code",
   "execution_count": 63,
   "metadata": {},
   "outputs": [
    {
     "name": "stdout",
     "output_type": "stream",
     "text": [
      "Z\n",
      "good bye~\n"
     ]
    }
   ],
   "source": [
    "# False\n",
    "cond = 0\n",
    "\n",
    "if cond :\n",
    "    print(\"A\") # cond이 False이므로 if에 있는 코드가 실행되지 않고 else의 Z만이 실행됨 \n",
    "    print(\"B\")\n",
    "    \n",
    "else : \n",
    "    print(\"Z\")\n",
    "    \n",
    "print(\"good bye~\") # true 던 false던 간에 good bye 나오도록 "
   ]
  },
  {
   "cell_type": "code",
   "execution_count": 64,
   "metadata": {},
   "outputs": [
    {
     "name": "stdout",
     "output_type": "stream",
     "text": [
      "write cond : 1\n",
      "A\n",
      "B\n",
      "good bye~\n"
     ]
    }
   ],
   "source": [
    "# 입력\n",
    "cond = int(input(\"write cond : \")) # input으로 들어가면 string으로 읽힘 그래서 int로 바꿔줌 \n",
    "\n",
    "if cond :\n",
    "    print(\"A\") # cond이 False이므로 if에 있는 코드가 실행되지 않고 else의 Z만이 실행됨 \n",
    "    print(\"B\")\n",
    "    \n",
    "else : \n",
    "    print(\"Z\")\n",
    "    \n",
    "print(\"good bye~\") # true 던 false던 간에 good bye 나오도록\n",
    "\n",
    "# cond에 0을 넣으면 False이므로 else의 Z 값이 나오게 됨\n",
    "# cond에 1을 넣으면 True이므로 if의 A, B 값이 나오게 됨 "
   ]
  },
  {
   "cell_type": "code",
   "execution_count": 66,
   "metadata": {},
   "outputs": [
    {
     "name": "stdout",
     "output_type": "stream",
     "text": [
      "write a : 0\n",
      "A\n",
      "B\n",
      "good bye~\n"
     ]
    }
   ],
   "source": [
    "# 조건 지정\n",
    "a = int(input(\"write a : \")) \n",
    "\n",
    "cond = a < 5 # 조건 지정\n",
    "\n",
    "if cond :\n",
    "    print(\"A\") \n",
    "    print(\"B\")\n",
    "    \n",
    "else : \n",
    "    print(\"Z\")\n",
    "    \n",
    "print(\"good bye~\") \n",
    "# a 값이 5보다 작으면 A, B 나옴\n",
    "# a 값이 5보다 크면 Z 나옴"
   ]
  },
  {
   "cell_type": "code",
   "execution_count": 69,
   "metadata": {},
   "outputs": [
    {
     "name": "stdout",
     "output_type": "stream",
     "text": [
      "Write num0 : 1\n",
      "Write num1 : 2\n",
      "2\n"
     ]
    }
   ],
   "source": [
    "# if\n",
    "\"\"\"\n",
    "큰 수 출력하기 \n",
    "num0, num1 두 개 숫자 중 큰 숫자를 출력하세요\n",
    "num0과 num1은 input으로 만들기\n",
    "\n",
    "출력 : 7\n",
    "\"\"\"\n",
    "\n",
    "num0 = int(input(\"Write num0 : \"))\n",
    "num1 = int(input(\"Write num1 : \"))\n",
    "\n",
    "if num0 > num1 :\n",
    "    print(num0)\n",
    "    \n",
    "else :\n",
    "    print(num1)"
   ]
  },
  {
   "cell_type": "code",
   "execution_count": 72,
   "metadata": {},
   "outputs": [
    {
     "name": "stdout",
     "output_type": "stream",
     "text": [
      "Write num0 : 2\n",
      "Write num1 : 6\n",
      "6 is larger\n"
     ]
    }
   ],
   "source": [
    "# if - 강사님\n",
    "\"\"\"\n",
    "큰 수 출력하기 \n",
    "num0, num1 두 개 숫자 중 큰 숫자를 출력하세요\n",
    "num0과 num1은 input으로 만들기\n",
    "\n",
    "출력 : 7\n",
    "\"\"\"\n",
    "\n",
    "num0 = int(input(\"Write num0 : \"))\n",
    "num1 = int(input(\"Write num1 : \"))\n",
    "\n",
    "cond = (num0 <= num1)\n",
    "\n",
    "if cond :\n",
    "    print(num1, end = ' ')\n",
    "    \n",
    "else :\n",
    "    print(num0, end = ' ')\n",
    "print(\"is larger\")"
   ]
  },
  {
   "cell_type": "code",
   "execution_count": 78,
   "metadata": {},
   "outputs": [
    {
     "name": "stdout",
     "output_type": "stream",
     "text": [
      "Write num0 : 5\n",
      "Write num1 : 5\n",
      "same\n"
     ]
    }
   ],
   "source": [
    "# elif - 강사님\n",
    "\"\"\"\n",
    "큰 수 출력하기 \n",
    "num0, num1 두 개 숫자 중 큰 숫자를 출력하세요\n",
    "num0과 num1은 input으로 만들기\n",
    "\n",
    "출력 : 7\n",
    "\"\"\"\n",
    "\n",
    "num0 = int(input(\"Write num0 : \"))\n",
    "num1 = int(input(\"Write num1 : \"))\n",
    "\n",
    "if num0 < num1 :\n",
    "    print(\"{0} is larger\".format(num1))\n",
    "    \n",
    "elif num0 == num1 : \n",
    "    print(\"same\")\n",
    "    \n",
    "else :\n",
    "    print(\"{0} is larger\".format(num0))"
   ]
  },
  {
   "cell_type": "code",
   "execution_count": 84,
   "metadata": {},
   "outputs": [
    {
     "name": "stdout",
     "output_type": "stream",
     "text": [
      "점수 입력 :-2\n",
      "Wrong\n"
     ]
    }
   ],
   "source": [
    "# if\n",
    "\"\"\"\n",
    "점수 지정하기\n",
    "점수를 입력받아 학점을 출력하세요\n",
    "90 -100 A\n",
    "80 - 89 B\n",
    "70 -79 C\n",
    "60 - 69 D\n",
    "-59 F\n",
    "\n",
    "입력 : 95\n",
    "출력 : A\n",
    "\n",
    "입력 : 71\n",
    "출력 : C\n",
    "\"\"\"\n",
    "\n",
    "ans = int(input(\"점수 입력 :\"))\n",
    "\n",
    "\n",
    "if ans > 100 : \n",
    "    print(\"Wrong\")\n",
    "\n",
    "elif ans < 0 :\n",
    "    print(\"Wrong\")\n",
    "    \n",
    "elif ans >= 90 :\n",
    "    print(\"A\")\n",
    "    \n",
    "elif 90 > ans >= 80 : \n",
    "    print(\"B\")\n",
    "    \n",
    "elif 80 > ans >= 70 : \n",
    "    print(\"C\")\n",
    "    \n",
    "elif 70 > ans >= 60 : \n",
    "    print(\"D\")\n",
    "    \n",
    "else : \n",
    "    print(\"F\")"
   ]
  },
  {
   "cell_type": "code",
   "execution_count": null,
   "metadata": {},
   "outputs": [],
   "source": [
    "# if - 강사님\n",
    "\"\"\"\n",
    "점수 지정하기\n",
    "점수를 입력받아 학점을 출력하세요\n",
    "90 -100 A\n",
    "80 - 89 B\n",
    "70 -79 C\n",
    "60 - 69 D\n",
    "-59 F\n",
    "\n",
    "입력 : 95\n",
    "출력 : A\n",
    "\n",
    "입력 : 71\n",
    "출력 : C\n",
    "\"\"\"\n",
    "\n",
    "ans = int(input(\"점수 입력 :\"))\n",
    "\n",
    "if 100 >= ans >= 90 :\n",
    "    print(\"A\")\n",
    "    \n",
    "elif ans >= 80 :# 어짜피 if문에서 90이상은 걸러주니 90 > ans >= 80 이라 안써도 됨\n",
    "    print(\"B\")\n",
    "    \n",
    "elif ans >= 70 : \n",
    "    print(\"C\")\n",
    "    \n",
    "elif ans >= 60 : \n",
    "    print(\"D\")\n",
    "    \n",
    "else : \n",
    "    print(\"F\")"
   ]
  },
  {
   "cell_type": "code",
   "execution_count": 11,
   "metadata": {},
   "outputs": [
    {
     "name": "stdout",
     "output_type": "stream",
     "text": [
      "12038.2 KRW, 6828.65 KRW, 78.54 KRW, 1548.36 KRW\n"
     ]
    }
   ],
   "source": [
    "# dictionary ★중요\n",
    "\"\"\"\n",
    "달러, 유로, 엔, 위안 금액을 입력받아 원화(KRW)로 변환하세요\n",
    "\n",
    "USD : 1,203.82\n",
    "EUR : 1,365.73\n",
    "JPY : 11.22\n",
    "CNY : 172.04\n",
    "\n",
    "- dictionary로 만들기\n",
    "- comma도 지우기\n",
    "- 입력 input으로 하지말기 \n",
    "\n",
    "입력 : '10 USD, 5 EUR, 7 JPY, 9 CNY'\n",
    "출력 : 12038.2 KRW, 6828.65 KRW, 78.54 KRW, 1548.36 KRW\n",
    "\n",
    "# 10 USD 가 추가로 들어오면 어떻게 작성해야하는건가?\n",
    "\"\"\"\n",
    "\n",
    "calc = '10 USD, 5 EUR, 7 JPY, 9 CNY'\n",
    "d_ratio = {'USD':'1,203.82', 'EUR':'1,365.73', 'JPY':'11.22', 'CNY':'172.04'}\n",
    "\n",
    "# calc\n",
    "calc_replace = calc.replace(\",\", \"\")\n",
    "calc_split = calc_replace.split()\n",
    "\n",
    "c_USD = int(calc_split[0])\n",
    "c_EUR = int(calc_split[2])\n",
    "c_JPY = int(calc_split[4])\n",
    "c_CNY = int(calc_split[6])\n",
    "\n",
    "# d_ratio\n",
    "m_USD = float(d_ratio['USD'].replace(',',''))\n",
    "m_EUR = float(d_ratio['EUR'].replace(',',''))\n",
    "m_JPY = float(d_ratio['JPY'].replace(',',''))\n",
    "m_CNY = float(d_ratio['CNY'].replace(',',''))\n",
    "\n",
    "# 계산\n",
    "cal_USD = round(c_USD * m_USD, 2)\n",
    "cal_EUR = round(c_EUR * m_EUR, 2)\n",
    "cal_JPY = round(c_JPY * m_JPY, 2)\n",
    "cal_CNY = round(c_CNY * m_CNY, 2)\n",
    "\n",
    "# 출력\n",
    "print(cal_USD, \"KRW,\", cal_EUR, \"KRW,\", cal_JPY, \"KRW,\", cal_CNY, \"KRW\")"
   ]
  },
  {
   "cell_type": "code",
   "execution_count": 15,
   "metadata": {},
   "outputs": [
    {
     "name": "stdout",
     "output_type": "stream",
     "text": [
      "m_USD = 1203.82\n",
      "m_EUR = 1365.73\n",
      "m_JPY = 11.22\n",
      "m_CNY = 172.04\n"
     ]
    }
   ],
   "source": [
    "d_ratio = {'USD':'1,203.82', 'EUR':'1,365.73', 'JPY':'11.22', 'CNY':'172.04'}\n",
    "\n",
    "calc_split\n",
    "\n",
    "nation = ['USD', 'EUR', 'JPY', 'CNY']\n",
    "money = []\n",
    "\n",
    "for i in nation :\n",
    "    \n",
    "    nation_name = \"m_\" + str(i)\n",
    "    \n",
    "    nation_name = float(d_ratio[i].replace(',',''))\n",
    "#     print(nation_name, \"=\", float(d_ratio[i].replace(',','')))\n",
    "    \n",
    "    "
   ]
  },
  {
   "cell_type": "code",
   "execution_count": null,
   "metadata": {},
   "outputs": [],
   "source": [
    "region_num = \"region_\" + str(j)"
   ]
  }
 ],
 "metadata": {
  "kernelspec": {
   "display_name": "Python 3",
   "language": "python",
   "name": "python3"
  },
  "language_info": {
   "codemirror_mode": {
    "name": "ipython",
    "version": 3
   },
   "file_extension": ".py",
   "mimetype": "text/x-python",
   "name": "python",
   "nbconvert_exporter": "python",
   "pygments_lexer": "ipython3",
   "version": "3.7.4"
  }
 },
 "nbformat": 4,
 "nbformat_minor": 2
}
