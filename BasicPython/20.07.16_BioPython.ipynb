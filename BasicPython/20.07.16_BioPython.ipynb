{
 "cells": [
  {
   "cell_type": "markdown",
   "metadata": {},
   "source": [
    "### 20.07.16_BioPython\n",
    "    일시 : 2020/07/16\n",
    "    강사님 : 김태윤 연구원님(마크로젠) \n",
    "    기록 : 조예슬\n",
    "    내용 : \n",
    "         - "
   ]
  },
  {
   "cell_type": "code",
   "execution_count": null,
   "metadata": {},
   "outputs": [],
   "source": [
    "# conda activate py37\n",
    "# which python "
   ]
  },
  {
   "cell_type": "markdown",
   "metadata": {},
   "source": [
    "#### Counter"
   ]
  },
  {
   "cell_type": "code",
   "execution_count": 2,
   "metadata": {},
   "outputs": [],
   "source": [
    "# import collections"
   ]
  },
  {
   "cell_type": "code",
   "execution_count": 5,
   "metadata": {},
   "outputs": [
    {
     "name": "stdout",
     "output_type": "stream",
     "text": [
      "['a', 'b', 'a', 'c', 'd', 'f']\n",
      "['b', 'c', 'b', 'd', 'e', 'e', 'e']\n",
      "['q', 'w', 'e', 'r', 't', 'y', 'y', 'y']\n",
      "\n",
      "Counter({'a': 2, 'b': 1, 'c': 1, 'd': 1, 'f': 1})\n",
      "Counter({'e': 3, 'b': 2, 'c': 1, 'd': 1})\n",
      "Counter({'y': 3, 'q': 1, 'w': 1, 'e': 1, 'r': 1, 't': 1})\n",
      "\n",
      "Counter({'a': 7, 'b': 1, 'c': 1, 'd': 1, 'f': 1})\n",
      "\n",
      "Counter({'b': 1, 'c': 1, 'd': 1})\n",
      "\n",
      "Counter({'a': 7, 'b': 3, 'e': 3, 'c': 2, 'd': 2, 'f': 1})\n",
      "\n",
      "Counter({'a': 7, 'f': 1})\n"
     ]
    }
   ],
   "source": [
    "A = ['a', 'b', 'a', 'c', 'd', 'f']\n",
    "B = ['b', 'c', 'b', 'd', 'e', 'e', 'e']\n",
    "C = ['q', 'w', 'e', 'r', 't', 'y', 'y', 'y']\n",
    "\n",
    "a_cnt = collections.Counter(A)\n",
    "b_cnt = collections.Counter(B)\n",
    "c_cnt = collections.Counter(C)\n",
    "\n",
    "print(A)\n",
    "print(B)\n",
    "print(C)\n",
    "print()\n",
    "\n",
    "print(a_cnt)\n",
    "print(b_cnt)\n",
    "print(c_cnt)\n",
    "print()\n",
    "\n",
    "a_cnt['a'] += 5 # 5가 더해진 상태로 counter의 변환이 일어남\n",
    "print(a_cnt)\n",
    "print()\n",
    "\n",
    "print(a_cnt & b_cnt) # a와 b가 공통적으로 가지고 있는 것 제시\n",
    "print()\n",
    "\n",
    "print(a_cnt + b_cnt) # 유전자 발현양 등등 계산시\n",
    "print()\n",
    "\n",
    "print(a_cnt - b_cnt)"
   ]
  },
  {
   "cell_type": "code",
   "execution_count": 4,
   "metadata": {},
   "outputs": [
    {
     "name": "stdout",
     "output_type": "stream",
     "text": [
      "Counter({'a': 7, 'b': 1, 'c': 1, 'd': 1, 'f': 1})\n",
      "Counter({'e': 3, 'b': 2, 'c': 1, 'd': 1})\n",
      "Counter({'a': 7, 'e': 3, 'b': 2, 'c': 1, 'd': 1, 'f': 1})\n",
      "Counter({'b': 1, 'c': 1, 'd': 1})\n"
     ]
    }
   ],
   "source": [
    "# 마크로젠 코딩 문제\n",
    "\n",
    "A = ['a', 'b', 'a', 'c', 'd', 'f']\n",
    "B = ['b', 'c', 'b', 'd', 'e', 'e', 'e']\n",
    "\n",
    "a_cnt = collections.Counter(A)\n",
    "b_cnt = collections.Counter(B)\n",
    "a_cnt['a'] += 5 # a 개수 5 추가 \n",
    "print(a_cnt)\n",
    "print(b_cnt)\n",
    "print(a_cnt | b_cnt) # 합집합\n",
    "print(a_cnt & b_cnt) # 교집합"
   ]
  },
  {
   "cell_type": "markdown",
   "metadata": {},
   "source": [
    "### Palindromic sequence 판별\n",
    "    앞으로 읽고 뒤에서 읽어도 sequence가 같은것 \n",
    "    \n",
    "    how to find palindromic sequences\n",
    "    http://www.biophp.org/minitools/find_palindromes/demo.php"
   ]
  },
  {
   "cell_type": "code",
   "execution_count": 85,
   "metadata": {},
   "outputs": [
    {
     "name": "stdout",
     "output_type": "stream",
     "text": [
      "input seq. : AGCT\n",
      "2 base differ\n"
     ]
    }
   ],
   "source": [
    "# 강사님 풀이\n",
    "\"\"\"\n",
    "5  3\n",
    "GATC\n",
    "CTAG\n",
    "3  5\n",
    "\n",
    "5  3\n",
    "GATC\n",
    "\n",
    "5  3\n",
    "GATC\n",
    "\n",
    "\n",
    "# 1. 짝수개의 시퀀스\n",
    "# \n",
    "\"\"\"\n",
    "\n",
    "seq = input(\"input seq. : \")\n",
    "i_palindromic = 0\n",
    "\n",
    "# 모든 base 확인 \n",
    "d_DNA = {'A':'T', 'G':'C', 'C':'G', 'T':'A'}\n",
    "\n",
    "for i in range(len(seq)//2) :\n",
    "    \n",
    "    if not seq[i] == d_DNA[seq[-(i+1)]] : # compolement 값과 같은지\n",
    "        i_palindromic += 0 # T - 0 / F - 1\n",
    "    \n",
    "    else :\n",
    "        i_palindromic += 1\n",
    "    \n",
    "if i_palindromic == 0 :\n",
    "    print(\"{0} is palindromin\".format(seq))\n",
    "\n",
    "else :\n",
    "#     i_palindromic < 0\n",
    "    print(\"{0} base differ\".format(i_palindromic))\n",
    "    "
   ]
  },
  {
   "cell_type": "code",
   "execution_count": 44,
   "metadata": {},
   "outputs": [
    {
     "name": "stdout",
     "output_type": "stream",
     "text": [
      "input seq. : ATCT\n",
      "ATCT is palindromin\n"
     ]
    }
   ],
   "source": [
    "# 강사님 풀이2\n",
    "\"\"\"\n",
    "5  3\n",
    "GATC\n",
    "CTAG\n",
    "3  5\n",
    "\n",
    "5  3\n",
    "GATC\n",
    "\n",
    "5  3\n",
    "GATC\n",
    "\n",
    "\n",
    "# 1. 짝수개의 시퀀스\n",
    "# \n",
    "\"\"\"\n",
    "\n",
    "seq = input(\"input seq. : \")\n",
    "i_palindromic = 0\n",
    "\n",
    "# 모든 base 확인 \n",
    "d_DNA = {'A':'T', 'G':'C', 'C':'G', 'T':'A'}\n",
    "\n",
    "# 길이가 짝수인지 홀수인지 먼저 알면 속도가 빨라진다 \n",
    "if len(seq)%2 == 1 :\n",
    "    print(\"Diff.\")\n",
    "    \n",
    "else : \n",
    "    \n",
    "    for i in range(len(seq)//2) :\n",
    "\n",
    "        if not seq[i] == d_DNA[seq[-(i+1)]] : # complement 값과 같은지\n",
    "            i_palindromic += 0 # T - 0 / F - 1\n",
    "\n",
    "        else :\n",
    "            i_palindromic += 1\n",
    "\n",
    "    if i_palindromic = 0 :\n",
    "        print(\"{0} is palindromin\".format(seq))\n",
    "\n",
    "    else :\n",
    "    #     i_palindromic < 0\n",
    "        print(\"{0} base differ\".format(i_palindromic))\n"
   ]
  },
  {
   "cell_type": "code",
   "execution_count": null,
   "metadata": {},
   "outputs": [],
   "source": []
  },
  {
   "cell_type": "code",
   "execution_count": 7,
   "metadata": {},
   "outputs": [
    {
     "name": "stdout",
     "output_type": "stream",
     "text": [
      "Sequence 입력 : GTTAAC\n",
      "Palindromic sequence 입니다\n"
     ]
    }
   ],
   "source": [
    "# # 내 풀이\n",
    "# \"\"\"\n",
    "# 5  3\n",
    "# GATC\n",
    "# CTAG\n",
    "# 3  5\n",
    "\n",
    "# 5  3\n",
    "# GATC\n",
    "\n",
    "# 5  3\n",
    "# GATC\n",
    "\n",
    "\n",
    "# # 1. 짝수개의 시퀀스\n",
    "# # \n",
    "# \"\"\"\n",
    "\n",
    "# # seq 제시\n",
    "# seq = input(\"Sequence 입력 : \")\n",
    "\n",
    "# # 상보적염기서열\n",
    "# d_DNA = {'A':'T', 'T':'A', 'G':'C', 'C':'G'}\n",
    "\n",
    "# # sequence 홀수인 경우\n",
    "# if len(seq) % 2 != 0 :\n",
    "#     print(\"Sequence 길이가 홀수라 성립하지 않습니다.\")\n",
    "    \n",
    "# # sequence 짝수인 경우\n",
    "# elif len(seq) % 2 == 0 :\n",
    "    \n",
    "#     # seq 양쪽 끝에서부터 서열이 동일한지 확인  # 짝수일때 palindromic 아닌경우 골라내야함\n",
    "#     for i in range(len(seq)) :        \n",
    "#         d_DNA[seq[i]] == d_DNA[seq[(len(seq)-1-i)]]\n",
    "#     print(\"Palindromic sequence 입니다\")"
   ]
  },
  {
   "cell_type": "code",
   "execution_count": 4,
   "metadata": {},
   "outputs": [
    {
     "name": "stdout",
     "output_type": "stream",
     "text": [
      "Sequence 입력 : GATC\n",
      "Palindromic sequence 입니다\n",
      "Palindromic sequence 입니다\n"
     ]
    }
   ],
   "source": [
    "# 내 풀이\n",
    "\"\"\"\n",
    "5  3\n",
    "GATC\n",
    "CTAG\n",
    "3  5\n",
    "\n",
    "5  3\n",
    "GATC\n",
    "\n",
    "5  3\n",
    "GATC\n",
    "\n",
    "\n",
    "# 1. 짝수개의 시퀀스\n",
    "# \n",
    "\"\"\"\n",
    "\n",
    "# seq 제시\n",
    "seq = input(\"Sequence 입력 : \")\n",
    "# seq = 'GCGC'\n",
    "\n",
    "# 상보적염기서열\n",
    "d_DNA = {'A':'T', 'T':'A', 'G':'C', 'C':'G'}\n",
    "\n",
    "# sequence 홀수인 경우\n",
    "if len(seq) % 2 != 0 :\n",
    "    print(\"Sequence 길이가 홀수라 성립하지 않습니다.\")\n",
    "    \n",
    "# sequence 짝수인 경우\n",
    "elif len(seq) % 2 == 0 :\n",
    "    \n",
    "    # seq 양쪽 끝에서부터 서열이 동일한지 확인 \n",
    "    for i in range(len(seq)//2) :        \n",
    "        \n",
    "        if seq[i] == d_DNA[seq[(len(seq)-1-i)]] :\n",
    "\n",
    "            print(\"Palindromic sequence 입니다\")\n",
    "\n",
    "        else :\n",
    "            print(\"Palindromic sequence가 아닙니다\")"
   ]
  },
  {
   "cell_type": "code",
   "execution_count": null,
   "metadata": {},
   "outputs": [],
   "source": []
  },
  {
   "cell_type": "code",
   "execution_count": null,
   "metadata": {},
   "outputs": [],
   "source": []
  },
  {
   "cell_type": "code",
   "execution_count": 119,
   "metadata": {},
   "outputs": [
    {
     "data": {
      "text/plain": [
       "'A'"
      ]
     },
     "execution_count": 119,
     "metadata": {},
     "output_type": "execute_result"
    }
   ],
   "source": [
    "seq = 'ATTA'\n",
    "d_DNA = {'A':'T', 'T':'A', 'G':'C', 'C':'G'}\n",
    "\n",
    "len(seq)\n",
    "\n",
    "seq[0] == d_DNA['T'] # True\n",
    "\n",
    "d_DNA.get('T') # A\n",
    "\n",
    "seq[0] # A\n",
    "\n",
    "d_DNA[(d_DNA[seq[0]])] # A\n",
    "\n",
    "d_DNA[seq[0]] # T\n",
    "\n",
    "d_DNA[seq[0]] == d_DNA[seq[-1]] # True\n",
    "\n",
    "d_DNA[seq[0]] == d_DNA[seq[len(seq)-1]] # True # T\n",
    "\n",
    "d_DNA[seq[len(seq)-1-1]]"
   ]
  },
  {
   "cell_type": "code",
   "execution_count": null,
   "metadata": {},
   "outputs": [],
   "source": []
  },
  {
   "cell_type": "code",
   "execution_count": null,
   "metadata": {},
   "outputs": [],
   "source": []
  },
  {
   "cell_type": "markdown",
   "metadata": {},
   "source": [
    "#### 함수\n",
    "    \n",
    "    fx = x + 2\n",
    "    \n",
    "    - 형태\n",
    "        def 함수명(매개변수) :\n",
    "            실행코드0\n",
    "            실행코드1\n",
    "            return 결과값\n",
    "    \n",
    "    - 매개변수가 x\n",
    "      자주 반복되서 사용되는거 함수로 작성 \n",
    "    \n",
    "    - 매개변수 GATC\n",
    "      실행코드 20줄\n",
    "      결과값이 \"GATC is palindromic\"\n",
    "      "
   ]
  },
  {
   "cell_type": "code",
   "execution_count": 70,
   "metadata": {},
   "outputs": [
    {
     "name": "stdout",
     "output_type": "stream",
     "text": [
      "fruit :  apple\n",
      "fruit :  peach\n",
      "peachtree\n"
     ]
    }
   ],
   "source": [
    "# tree라는 변수에 결과값을 저장할 수 있어 return값 까지 제시됨\n",
    "\n",
    "# apple 나왔을 때는 print 값만나옴\n",
    "\n",
    "# 변수값 지정하면 실행코드 먼저 실행되고 return 값이 나옴\n",
    "\n",
    "def fruitTree(fruit) :\n",
    "    print('fruit : ', fruit)\n",
    "    return fruit + 'tree'\n",
    "\n",
    "fruitTree('apple')\n",
    "\n",
    "tree = fruitTree('peach')\n",
    "\n",
    "print(tree)"
   ]
  },
  {
   "cell_type": "code",
   "execution_count": 69,
   "metadata": {},
   "outputs": [
    {
     "name": "stdout",
     "output_type": "stream",
     "text": [
      "add 3 and 4\n",
      "3 + 4 = 7\n",
      "result 7\n"
     ]
    }
   ],
   "source": [
    "def add(a, b) :\n",
    "    print('add', a, 'and', b)\n",
    "    print('%d + %d =' %(a, b), a + b)\n",
    "    return a+b\n",
    "\n",
    "result = add(3, 4) # 매개변수 3, 4로 지정 \n",
    "\n",
    "print('result', result) # 이떄 result는 return의 반환값 3 + 4"
   ]
  },
  {
   "cell_type": "code",
   "execution_count": 75,
   "metadata": {},
   "outputs": [
    {
     "name": "stdout",
     "output_type": "stream",
     "text": [
      "Hello!\n",
      "\n",
      "resHello start\n",
      "\n",
      "Hello!\n",
      "\n",
      "res_hello : None\n",
      "\n",
      "resHello end\n"
     ]
    }
   ],
   "source": [
    "def hello():\n",
    "    print(\"Hello!\")\n",
    "    \n",
    "hello()\n",
    "print()\n",
    "\n",
    "print('resHello start')\n",
    "print()\n",
    "\n",
    "res_hello = hello() # hello() 반환값을 res_hello에 넣어라 # hello()에는 print값은 있지만 return값이 없음 \n",
    "print()\n",
    "\n",
    "print('res_hello :', res_hello) # None # 함수에서 반환값이 없으면 변수가 받아가면 None의 결과가 나옴\n",
    "print()\n",
    "\n",
    "print('resHello end')"
   ]
  },
  {
   "cell_type": "code",
   "execution_count": 76,
   "metadata": {},
   "outputs": [
    {
     "name": "stdout",
     "output_type": "stream",
     "text": [
      "add 3 and 4\n",
      "3 + 4 = 7\n",
      "result (3, 4, 7)\n"
     ]
    }
   ],
   "source": [
    "def add(a, b) :\n",
    "    print('add', a, 'and', b)\n",
    "    print('%d + %d =' %(a, b), a + b)\n",
    "    return a, b, a+b\n",
    "\n",
    "result = add(3, 4) # 매개변수 3, 4로 지정 \n",
    "\n",
    "print('result', result) # 이떄 result는 tuple로 묶여있는 return 값이 나옴 "
   ]
  },
  {
   "cell_type": "code",
   "execution_count": 78,
   "metadata": {},
   "outputs": [
    {
     "name": "stdout",
     "output_type": "stream",
     "text": [
      "add 3 and 4\n",
      "3 + 4 = 7\n",
      "result A : 3\n",
      "result B : 4\n",
      "result : 7\n"
     ]
    }
   ],
   "source": [
    "def add(a, b) :\n",
    "    print('add', a, 'and', b)\n",
    "    print('%d + %d =' %(a, b), a + b)\n",
    "    return a, b, a+b\n",
    "\n",
    "A, B, result = add(3, 4) # return값 별개로 저장 가능 \n",
    "\n",
    "print('result A :' , A)\n",
    "print('result B :' , B)\n",
    "print('result :' , result)"
   ]
  },
  {
   "cell_type": "code",
   "execution_count": 48,
   "metadata": {},
   "outputs": [
    {
     "name": "stdout",
     "output_type": "stream",
     "text": [
      "name1 100 C C++\n",
      "name1: name1\n",
      "name2 100 C++ Python\n",
      "name2: name2\n"
     ]
    }
   ],
   "source": [
    "def book(name, age, book1, book2) : # 매개변수 4개 가지고 있는 함수 \n",
    "    print(name, age, book1, book2)\n",
    "    return name\n",
    "\n",
    "name1 = book('name1', '100', 'C', 'C++')\n",
    "print('name1:', name1)\n",
    "\n",
    "# name2 = book('name2', '100', 'C', 'C++', 'Python') # 5개 줬다고 error 뜸 \n",
    "name2 = book('name2', '100', 'C++', 'Python')\n",
    "print('name2:', name2)"
   ]
  },
  {
   "cell_type": "code",
   "execution_count": 56,
   "metadata": {},
   "outputs": [
    {
     "name": "stdout",
     "output_type": "stream",
     "text": [
      "name1 100 C C++ \n",
      "name1: name1\n",
      "name2 100 C C++ Python AAAAAA \n",
      "name2: name2\n"
     ]
    }
   ],
   "source": [
    "def book(name, age, *book) : \n",
    "        # * : 뒤에오는 매개변수 개수 계속 늘어날 수 있다 \n",
    "        #     이것을 모두 list로 모아서 book 이라는 매개변수에 저장하겠다\n",
    "    print(name, age, end = ' ')\n",
    "    \n",
    "    for i in book :\n",
    "        print(i, end = ' ')\n",
    "    print()\n",
    "    return name\n",
    "\n",
    "name1 = book('name1', '100', 'C', 'C++')\n",
    "print('name1:', name1)\n",
    "\n",
    "name2 = book('name2', '100', 'C', 'C++', 'Python', 'AAAAAA') # 계속 추가해도 뒤에 덧붙여진다\n",
    "print('name2:', name2)"
   ]
  },
  {
   "cell_type": "code",
   "execution_count": 59,
   "metadata": {},
   "outputs": [
    {
     "name": "stdout",
     "output_type": "stream",
     "text": [
      "7\n"
     ]
    }
   ],
   "source": [
    "# lambda\n",
    "\n",
    "i_lambda = (lambda x, y : x + y)(3, 4) # lambda 구문 ()로 닫아주기 \n",
    "\n",
    "print(i_lambda)"
   ]
  },
  {
   "cell_type": "code",
   "execution_count": 61,
   "metadata": {},
   "outputs": [
    {
     "name": "stdout",
     "output_type": "stream",
     "text": [
      "7\n",
      "\n",
      "7\n"
     ]
    }
   ],
   "source": [
    "# lambda 함수로 만들기\n",
    "\n",
    "def SUM(x, y) :\n",
    "    return x + y\n",
    "# def SUM(x, y) :return x + y # 함수 한줄로 쓸 수 있음 \n",
    "\n",
    "i_func = SUM(3, 4)\n",
    "print(i_func)\n",
    "\n",
    "print()\n",
    "\n",
    "i_lambda = (lambda x, y : x + y)(3, 4)\n",
    "# 하지만 함수를 쓰면 i_func 라인도 작성해야함\n",
    "# lambda는 한줄로 완료됨 더 간편하고 좋음 \n",
    "\n",
    "print(i_lambda)"
   ]
  },
  {
   "cell_type": "code",
   "execution_count": 17,
   "metadata": {},
   "outputs": [
    {
     "name": "stdout",
     "output_type": "stream",
     "text": [
      "12 - 0 = 12\n"
     ]
    },
    {
     "data": {
      "text/plain": [
       "12"
      ]
     },
     "execution_count": 17,
     "metadata": {},
     "output_type": "execute_result"
    }
   ],
   "source": [
    "\"\"\"\n",
    "사칙연산 함수\n",
    "함수를 이용하여 계산기 함수를 만들어 보세요\n",
    "\n",
    "def calc(num0, num1, op) :\n",
    "\n",
    "return result\n",
    "\"\"\"\n",
    "\n",
    "def calc(num0, num1, op) :\n",
    "    \n",
    "    if op == '+' :\n",
    "        print(\"{} + {} = {}\".format(num0, num1, num0 + num1))\n",
    "        result = num0 + num1\n",
    "\n",
    "    elif op == '-' :\n",
    "        print(\"{} - {} = {}\".format(num0, num1, num0 - num1))\n",
    "        result = num0 - num1\n",
    "\n",
    "    elif op == '*' :\n",
    "        print(\"{} * {} = {}\".format(num0, num1, num0 * num1))\n",
    "        result = num0 * num1\n",
    "\n",
    "    elif op == '/' :\n",
    "        if num1 == 0 :\n",
    "            result = \"0을 제외한 숫자를 입력해주세요\"\n",
    "\n",
    "        else :\n",
    "            print(\"{} / {} = {}\".format(num0, num1, num0 / num1))\n",
    "            result = num0 / num1\n",
    "\n",
    "    return result\n",
    "\n",
    "calculation = calc(12, 0, '/')\n",
    "print(calculation)"
   ]
  },
  {
   "cell_type": "code",
   "execution_count": 21,
   "metadata": {},
   "outputs": [
    {
     "name": "stdout",
     "output_type": "stream",
     "text": [
      "1st : 3\n",
      "2nd : 4\n",
      "operator : +\n",
      "7\n"
     ]
    }
   ],
   "source": [
    "\"\"\"\n",
    "- 강사님\n",
    "사칙연산 함수\n",
    "함수를 이용하여 계산기 함수를 만들어 보세요\n",
    "\n",
    "def calc(num0, num1, op) :\n",
    "\n",
    "return result\n",
    "\"\"\"\n",
    "first = int(input('1st : '))\n",
    "second = int(input('2nd : '))\n",
    "third = input('operator : ')\n",
    "\n",
    "def calc(num0, num1, op) :\n",
    "    \n",
    "    if op == '+' :\n",
    "        result = num0 + num1\n",
    "\n",
    "    elif op == '-' :\n",
    "        result = num0 - num1\n",
    "\n",
    "    elif op == '*' :\n",
    "        result = num0 * num1\n",
    "\n",
    "    elif op == '/' :\n",
    "        if num1 == 0 :\n",
    "            result = \"0을 제외한 숫자를 입력해주세요\"\n",
    "\n",
    "        else :\n",
    "            print(\"{} / {} = {}\".format(num0, num1, num0 / num1))\n",
    "            result = num0 / num1\n",
    "            \n",
    "    else :\n",
    "        result = \"please input correct operator\"\n",
    "\n",
    "    return result\n",
    "\n",
    "print(calc(first, second, third))"
   ]
  },
  {
   "cell_type": "code",
   "execution_count": null,
   "metadata": {},
   "outputs": [],
   "source": [
    "\"\"\"\n",
    "- 강사님2\n",
    "사칙연산 함수\n",
    "함수를 이용하여 계산기 함수를 만들어 보세요\n",
    "\n",
    "def calc(num0, num1, op) :\n",
    "\n",
    "return result\n",
    "\"\"\"\n",
    "INPUT = '1 5 +' # ?????????\n",
    "\n",
    "first = int(input('1st : '))\n",
    "second = int(input('2nd : '))\n",
    "third = input('operator : ')\n",
    "\n",
    "def calc(num0, num1, op) :\n",
    "    \n",
    "    if op == '+' :\n",
    "        result = num0 + num1\n",
    "\n",
    "    elif op == '-' :\n",
    "        result = num0 - num1\n",
    "\n",
    "    elif op == '*' :\n",
    "        result = num0 * num1\n",
    "\n",
    "    elif op == '/' :\n",
    "        if num1 == 0 :\n",
    "            result = \"0을 제외한 숫자를 입력해주세요\"\n",
    "\n",
    "        else :\n",
    "            print(\"{} / {} = {}\".format(num0, num1, num0 / num1))\n",
    "            result = num0 / num1\n",
    "            \n",
    "    else :\n",
    "        result = \"please input correct operator\"\n",
    "\n",
    "    return result\n",
    "\n",
    "print(calc(first, second, third))"
   ]
  },
  {
   "cell_type": "code",
   "execution_count": 24,
   "metadata": {},
   "outputs": [
    {
     "name": "stdout",
     "output_type": "stream",
     "text": [
      "1st : 2\n",
      "2nd : 3\n",
      "operator : +\n",
      "5 is result\n",
      "5\n"
     ]
    }
   ],
   "source": [
    "\"\"\"\n",
    "- 강사님3\n",
    "사칙연산 함수\n",
    "함수를 이용하여 계산기 함수를 만들어 보세요\n",
    "\n",
    "def calc(num0, num1, op) :\n",
    "\n",
    "return result\n",
    "\"\"\"\n",
    "\n",
    "first = input('1st : ')\n",
    "second = input('2nd : ')\n",
    "third = input('operator : ')\n",
    "\n",
    "def calc(num0, num1, op) :\n",
    "    result = eval(num0 + op + num1)\n",
    "#     print(num0 + op + num1)\n",
    "    return result\n",
    "\n",
    "# print(\"{} is reslt\".format(calc(first, second, third))) \n",
    "# 사람 유전체 파일 겁나 큼\n",
    "# 같은 연산 여러번 하면 프로그램 엄청 돌아가서 힘듦\n",
    "# result에 결과값을 넣어줘서 calc 계산이 여러번 돌아가지 않도록 하자\n",
    "\n",
    "Result = calc(first, second, third) \n",
    "# 변수로 지정해주면 계산기 한번만 돌아가서 속도가 더 빨라져서 효율성 증가할 것\n",
    "print('{} is result'.format(Result))\n",
    "print(Result)"
   ]
  },
  {
   "cell_type": "code",
   "execution_count": 53,
   "metadata": {},
   "outputs": [
    {
     "name": "stdout",
     "output_type": "stream",
     "text": [
      "n_th pivo : 8\n",
      "list :  [0, 1, 1, 2, 3, 5, 8, 13]\n",
      "last number :  13\n"
     ]
    }
   ],
   "source": [
    "# 피보나치 수열 \n",
    "# 0 1 1 2 3 5 8\n",
    "\n",
    "l_pivo = [0, 1]\n",
    "pivoIn = int(input('n_th pivo : '))\n",
    "\n",
    "for i in range(pivoIn-2) :\n",
    "    sum = l_pivo[-1] + l_pivo[-2]\n",
    "    l_pivo.append(sum)\n",
    "\n",
    "print(\"list : \", l_pivo) # list\n",
    "print(\"last number : \", l_pivo[-1]) # 마지막 인수만 보여주기 "
   ]
  },
  {
   "cell_type": "code",
   "execution_count": 56,
   "metadata": {},
   "outputs": [
    {
     "name": "stdout",
     "output_type": "stream",
     "text": [
      "n_th pivo : 0\n",
      "1\n"
     ]
    }
   ],
   "source": [
    "# - 강사님 \n",
    "# 피보나치 수열 \n",
    "# 0 1 1 2 3 5 8\n",
    "\n",
    "l_pivo = [0, 1]\n",
    "\n",
    "pivoIn = input('n_th pivo : ')\n",
    "pivoIn = int(pivoIn)\n",
    "\n",
    "for i in range(pivoIn - 2) :\n",
    "    l_pivo.append(l_pivo[-1] + l_pivo[-2])\n",
    "\n",
    "print(l_pivo[-1])"
   ]
  },
  {
   "cell_type": "markdown",
   "metadata": {},
   "source": [
    "#### 변수 유효 범위\n",
    "\n",
    "    - local variable (지역변수)\n",
    "    \n",
    "    - global variable (전역변수)"
   ]
  },
  {
   "cell_type": "code",
   "execution_count": 63,
   "metadata": {},
   "outputs": [
    {
     "name": "stdout",
     "output_type": "stream",
     "text": [
      "hi\n",
      "hello\n"
     ]
    },
    {
     "data": {
      "text/plain": [
       "'hihello'"
      ]
     },
     "execution_count": 63,
     "metadata": {},
     "output_type": "execute_result"
    }
   ],
   "source": [
    "def hihi(a, b) :\n",
    "    print(a)\n",
    "    print(b)\n",
    "    return a + b\n",
    "\n",
    "hihi('hi', 'hello')\n",
    "\n",
    "# print(a) \n",
    "# a라는 변수가 지정되지 않았다고 error 문구가 뜸\n",
    "# a는 함수내에서만 사용되는 local variable\n",
    "\n",
    "# 사용되지않는 변수를 저장하기에는 메모리 저장 소모가 크다 "
   ]
  },
  {
   "cell_type": "code",
   "execution_count": 62,
   "metadata": {},
   "outputs": [
    {
     "name": "stdout",
     "output_type": "stream",
     "text": [
      "hi\n",
      "hello\n",
      "This is C\n"
     ]
    }
   ],
   "source": [
    "# 지역변수를 전역변수로 가져고오고 싶을 때 : return\n",
    "\n",
    "def hihi(a, b) :\n",
    "    c = 'This is C' # 지역변수 c를 초기화 해서 this is C라는 구문을 넣어라 = local variable\n",
    "    print(a)\n",
    "    print(b)\n",
    "    print(c)\n",
    "    return a + b, c # 여러개의 return값이 있으면 tuple로 받게됨\n",
    "\n",
    "a, c = hihi('hi', 'hello') \n",
    "\n",
    "\"\"\"\n",
    "comma를 사용해서 나눠주기 \n",
    "hi가 자동으로 순서에 맞춰서 a 에 들어감 \n",
    "순서만 맞춰주면 data를 함수 안과 밖으로 주고 받을 수 있다\n",
    "순서가 만약 다르다면,\n",
    "a, c = hihi(c = 'hi', a = 'hello') 명시적으로 입력해주면 됨 \n",
    "\"\"\""
   ]
  },
  {
   "cell_type": "code",
   "execution_count": 71,
   "metadata": {},
   "outputs": [
    {
     "name": "stdout",
     "output_type": "stream",
     "text": [
      "chicken : 10\n",
      "15 chicken remained.\n",
      "chicken : 10\n",
      "\n",
      "chicken : 10\n",
      "5 chicken remained.\n",
      "chicken : 5\n"
     ]
    }
   ],
   "source": [
    "chicken = 10\n",
    "\n",
    "def cChicken(people) :\n",
    "    chicken = 20 # local variable # 독립적으로 직접 chicken의 개수를 지정해줘서 함수 내에서 사용 \n",
    "    chicken -= people\n",
    "    print(\"{0} chicken remained.\".format(chicken))\n",
    "\n",
    "def cChicken_global(people) :\n",
    "    global chicken # global variable # 1번 line에 있는 chicken을 가져와서 사용\n",
    "    chicken -= people\n",
    "    print(\"{0} chicken remained.\".format(chicken))\n",
    "    \n",
    "print('chicken :', chicken) # 전역\n",
    "cChicken(5) # 지역 \n",
    "print('chicken :', chicken) # 전역 \n",
    "print()\n",
    "\n",
    "print('chicken :', chicken) # 전역\n",
    "cChicken_global(5) # 전역\n",
    "print('chicken :', chicken) # 전역 "
   ]
  },
  {
   "cell_type": "markdown",
   "metadata": {},
   "source": [
    "#### 파일 입출력\n",
    "\n",
    "    open\n",
    "    : 다른파일 내용에 접근할 수 있도록 해줌 \n",
    "    \n",
    "    write\n",
    "    : string을 파일에 쓸수있음\n",
    "    \n",
    "    close\n",
    "    : 파일 닫기\n",
    "    \n",
    "    with\n",
    "    : 자동으로 파일 객체 닫음 "
   ]
  },
  {
   "cell_type": "markdown",
   "metadata": {},
   "source": [
    "#### 가상머신에서 새로 실행하기 \n",
    "\n",
    "    ls -a # 현재 폴더 위치 보기\n",
    "\n",
    "    vim dataFile.txt\n",
    "\n",
    "        1st line.\n",
    "        2nd line.\n",
    "        3rd line.\n",
    "\n",
    "        :wq\n",
    "        \n",
    "    ls test.py\n",
    "    \n",
    "    cat dataFile.txt\n",
    "    \n",
    "    vim test.py\n",
    "    \n",
    "        FI = open('./dataFile.txt', 'r') # r 읽기전용모드 \n",
    "        print(FI.read()) # print 입력해야 제시됨\n",
    "        FI.close() # 더 안정적\n",
    "        :wq\n",
    "        \n",
    "    ./test.py # 확인\n",
    "    \n",
    "    vim test.py\n",
    "        FI = open('./dataFile.txt', 'r') # r 읽기전용모드 \n",
    "        print(FI.read()) # print 입력해야 제시됨\n",
    "        FI.close() # 더 안정적\n",
    "        :wq\n",
    "        \n",
    "        \n",
    "    readlines() 해오면 한줄마다 '\\n'이 작성됨\n",
    "    \\n 지워서 파일 사용해줘야한다 \n",
    "    없앨 시에는\n",
    "    for i \n",
    "        i.strip() # OK # 양쪽 다 없어짐\n",
    "        i.rstrip() # OK\n",
    "        i.replace(\"\\n\")\n",
    "        \n",
    "    \\n    # Linux\n",
    "    \\n\\r  # Windows"
   ]
  },
  {
   "cell_type": "markdown",
   "metadata": {},
   "source": [
    "      1 #! /usr/bin/env python\n",
    "      2\n",
    "      3 FI = open('./dataFile.txt', 'r')\n",
    "      4 print(FI.read())\n",
    "      5 FI.close()\n",
    "      6\n",
    "      7\n",
    "      8 FI = open('./dataFile.txt', 'r')\n",
    "      9 for i in FI.readlines() :\n",
    "     10     print(i)\n",
    "     11 FI.close()\n",
    "     12\n",
    "     13\n",
    "     14 FI = open('./dataFile.txt', 'r')\n",
    "     15 print(FI.readlines())\n",
    "     16 FI.close()\n",
    "     17\n",
    "     18 FI = open('./dataFile.txt', 'r')\n",
    "     19 print(FI.readline())\n",
    "     20 print(FI.readline())\n",
    "     21 FI.close()\n",
    "     22\n",
    "     23 FI = open('./dataFile.txt', 'r')\n",
    "     24 print(FI.readline().strip()) # strip 입력하면 \\n 제외됨\n",
    "     25 print(FI.readline().strip())\n",
    "     26 FI.close()\n"
   ]
  },
  {
   "cell_type": "code",
   "execution_count": null,
   "metadata": {},
   "outputs": [],
   "source": [
    "# pickle\n",
    "# list, dic 이던 간에 내가 쓰고있는 자료형 그대로 써서 그대로 불러올 수 잇음\n",
    "\n",
    "# import pickle"
   ]
  },
  {
   "cell_type": "code",
   "execution_count": null,
   "metadata": {},
   "outputs": [],
   "source": [
    "\"\"\"\n",
    "File IO\n",
    "Working with Files\n",
    "\n",
    "짝수 줄 뽑기 \n",
    "\n",
    "Bravely bold Sir Robin rode forth from Camelot\n",
    "Yes, brave Sir Robin turned about\n",
    "He was not afraid to die, O brave Sir Robin\n",
    "And gallantly he chickened out\n",
    "He was not at all afraid to be killed in nasty ways\n",
    "Bravely talking to his feet\n",
    "Brave, brave, brave, brave Sir Robin\n",
    "He beat a very brave retreat\n",
    "\"\"\"\n",
    "F = open('./work.txt', 'r')\n",
    "\n",
    "for i in range(1000) :\n",
    "    if i % 2 == 1 :\n",
    "        print(F.readline().strip())\n",
    "    else :\n",
    "        F.readline()\n",
    "        \n",
    "F.close()"
   ]
  },
  {
   "cell_type": "code",
   "execution_count": null,
   "metadata": {},
   "outputs": [],
   "source": [
    "\"\"\"\n",
    "File IO\n",
    "Working with Files\n",
    "\n",
    "짝수 줄 뽑기 \n",
    "\n",
    "Bravely bold Sir Robin rode forth from Camelot\n",
    "Yes, brave Sir Robin turned about\n",
    "He was not afraid to die, O brave Sir Robin\n",
    "And gallantly he chickened out\n",
    "He was not at all afraid to be killed in nasty ways\n",
    "Bravely talking to his feet\n",
    "Brave, brave, brave, brave Sir Robin\n",
    "He beat a very brave retreat\n",
    "\"\"\"\n",
    "F = open('./work.txt', 'r')\n",
    "print(F.readlines()[1])  # readlines 자체가 txt파일 처음부터 끝까지 다 읽기 때문에 \n",
    "                         # File 재오픈 안하고 바로 F.readlines()[3] 을 하면 \n",
    "                         # 더이상 읽을게 없기 때문에 인덱스를 벗어났다고하는거\n",
    "                         # 그래서 이 코드를 이용하고 싶으면 파일을 재오픈해줘야한다\n",
    "\n",
    "F = open('./work.txt', 'r')\n",
    "print(F.readlines()[3])\n",
    "\n",
    "F = open('./work.txt', 'r')\n",
    "print(F.readlines()[5])\n",
    "\n",
    "F = open('./work.txt', 'r')\n",
    "print(F.readlines()[7])\n",
    "\n",
    "F.close()"
   ]
  },
  {
   "cell_type": "markdown",
   "metadata": {},
   "source": [
    "### 클래스\n",
    "    함수와 데이터 함께 관리\n",
    "    클래스명은 주로 대문자로 시작함"
   ]
  },
  {
   "cell_type": "code",
   "execution_count": 1,
   "metadata": {},
   "outputs": [
    {
     "name": "stdout",
     "output_type": "stream",
     "text": [
      "원의 반지름 : 9\n"
     ]
    },
    {
     "data": {
      "text/plain": [
       "56.5480656"
      ]
     },
     "execution_count": 1,
     "metadata": {},
     "output_type": "execute_result"
    }
   ],
   "source": [
    "\"\"\"\n",
    "원의 면적 구하는 함수 만들기\n",
    "- 함수 area를 만드세요\n",
    "- 원의 면적 = 2 * 반지름 * 3.141592 입니다\n",
    "입력 : 2\n",
    "출력 : 12.566368\n",
    "\n",
    "입력 : 9\n",
    "출력 : 56.548656\n",
    "\"\"\"\n",
    "\n",
    "r = int(input(\"원의 반지름 : \"))\n",
    "\n",
    "def area(r) :\n",
    "    PI = 3.1415592 # 다른 사람도 알아볼수있도록 변수를 잘 지정해줘야한다 \n",
    "    A = 2 * r * PI\n",
    "    return A\n",
    "\n",
    "area(r)"
   ]
  },
  {
   "cell_type": "code",
   "execution_count": null,
   "metadata": {},
   "outputs": [],
   "source": []
  }
 ],
 "metadata": {
  "kernelspec": {
   "display_name": "Python 3",
   "language": "python",
   "name": "python3"
  },
  "language_info": {
   "codemirror_mode": {
    "name": "ipython",
    "version": 3
   },
   "file_extension": ".py",
   "mimetype": "text/x-python",
   "name": "python",
   "nbconvert_exporter": "python",
   "pygments_lexer": "ipython3",
   "version": "3.7.4"
  }
 },
 "nbformat": 4,
 "nbformat_minor": 2
}
