{
 "cells": [
  {
   "cell_type": "markdown",
   "metadata": {},
   "source": [
    "### 20.07.20_BioPython\n",
    "    일시 : 2020/07/20\n",
    "    강사님 : 한준현 연구원님(쓰리빌리언) / kenneth.jh.han@snu.ac.kr / Git : KennethJHan\n",
    "    기록 : 조예슬\n",
    "    내용 : \n",
    "         - \n",
    "         \n",
    "    ---------------------------\n",
    "    WGS WES targetseq      RNAseq Metagenomeseq\n",
    "    \n",
    "    sanger seq\n",
    "    \n",
    "    CES\n",
    "        정확하다 golden standard\n",
    "        NGS 결과 확인하는 용도\n",
    "        \n",
    "        느리고 비싸고 짧은서열읽는다\n",
    "        \n",
    "    NGS\n",
    "        sample 채취 - library 제작 - library - NGS seq(FastQ파일) - 분석서버 - Read - 기준서열에 mapping(BAM 파일) - 변이찾기 \n",
    "        - 변이결과파일(VCF) - Annotaion(VCF파일 결과에 의미를 부여해주는 작업)\n",
    "        \n",
    "        진단의 장점 \n",
    "            높은 데이터 생산량\n",
    "            높은 분석 정확도\n",
    "            높은 가성비\n",
    "            \n",
    "        NGS를 활용한 진단은 읽어낸 변이가 어는 범위에 들어가는지 확인\n",
    "            Pathogenic / Benign / VUS\n",
    "            \n",
    "        \n",
    "    genomics/ statistics/ medical informatics/ computational biology/ .. \n",
    "    저널들어가서 저널에 있는 tiltle과 abstract읽어보고 재미있는거 위주로 모아서 내용읽어보고\n",
    "    거기서 재미있는거 선택해서 하고싶은 분야를 선택하자\n",
    "    \n",
    "    의료정보학 \n",
    "        의료영상, 생체신호 데이터 가지고 머신러닝 돌리기 \n",
    "        \n",
    "    대학원\n",
    "        '김박사넷'에서 알아보기\n",
    "        \n",
    "    생물학적 지식\n",
    "        분자생물학, 유전학 / 생화학, 면역학, 통계학 "
   ]
  },
  {
   "cell_type": "markdown",
   "metadata": {},
   "source": [
    "#### GitHub"
   ]
  },
  {
   "cell_type": "markdown",
   "metadata": {},
   "source": [
    "    - zsh\n",
    "\n",
    "    - github 실행 안될때\n",
    "        yum install git # centOS\n",
    "        apt-get install git # ubunt    \n",
    "    \n",
    "    - git에 파일 올리기\n",
    "        git status : 바뀐 상태 보기\n",
    "        git add . : 모든 파일 추가\n",
    "        git status\n",
    "        git commit -m \"add file\"\n",
    "        git status\n",
    "        git push origin master\n",
    "        \n",
    "    - Issues(누구한테 일을 시킬것인지)\n",
    "        Issues 들어가기\n",
    "        new issue\n",
    "            Day1\n",
    "            # 파이썬 문법 복습\n",
    "            - 문자열\n",
    "            - 숫자\n",
    "            - 리스트\n",
    "            - 사전\n",
    "        assignees\n",
    "            일 배정\n",
    "        create issues\n",
    "        \n",
    "    - Projects\n",
    "        new projects\n",
    "        "
   ]
  },
  {
   "cell_type": "markdown",
   "metadata": {},
   "source": [
    "    - 터미널창에서 \n",
    "        which pip\n",
    "        which python \n",
    "            두개가 동일한 위치에 있는지 확인\n",
    "        pip install biopython \n",
    "            biopython 깔기\n",
    "        python\n",
    "            python 으로 들어가기 \n",
    "        import Bio\n",
    "            Bio 불러오기 \n",
    "        Bio.__version__\n",
    "            Bio version 확인 "
   ]
  },
  {
   "cell_type": "code",
   "execution_count": 1,
   "metadata": {},
   "outputs": [],
   "source": [
    "import Bio\n",
    "import math"
   ]
  },
  {
   "cell_type": "code",
   "execution_count": 8,
   "metadata": {},
   "outputs": [
    {
     "name": "stdout",
     "output_type": "stream",
     "text": [
      "28.274333882308138\n"
     ]
    }
   ],
   "source": [
    "# 원의 면적 \n",
    "r = 3\n",
    "PI = math.pi\n",
    "area = PI * r * r\n",
    "print(area)"
   ]
  },
  {
   "cell_type": "code",
   "execution_count": 6,
   "metadata": {},
   "outputs": [
    {
     "name": "stdout",
     "output_type": "stream",
     "text": [
      "8\n",
      "-2\n",
      "15\n",
      "0.6\n",
      "3\n",
      "243\n"
     ]
    }
   ],
   "source": [
    "# 사칙연산\n",
    "n1 = 3\n",
    "n2 = 5\n",
    "\n",
    "print(n1 + n2)\n",
    "print(n1 - n2)\n",
    "print(n1 * n2)\n",
    "print(n1 / n2)\n",
    "print(n1 % n2)\n",
    "print(n1 ** n2) # 제곱"
   ]
  },
  {
   "cell_type": "code",
   "execution_count": 10,
   "metadata": {},
   "outputs": [
    {
     "name": "stdout",
     "output_type": "stream",
     "text": [
      "홀수\n"
     ]
    }
   ],
   "source": [
    "# 홀짝 구하기\n",
    "num1 = 3\n",
    "if num1 % 2 == 1 :\n",
    "    print(\"홀수\")\n",
    "    \n",
    "else :\n",
    "    print(\"짝수\")"
   ]
  },
  {
   "cell_type": "code",
   "execution_count": 11,
   "metadata": {},
   "outputs": [
    {
     "name": "stdout",
     "output_type": "stream",
     "text": [
      "3의 배수도 되고 7의 배수도 된다\n"
     ]
    }
   ],
   "source": [
    "# 3의 배수, 7의 배수 확인 \n",
    "num1 = 21\n",
    "\n",
    "if num1 % 3 == 0 & num1 % 7 == 0 :\n",
    "    print(\"3의 배수도 되고 7의 배수도 된다\")\n",
    "    \n",
    "elif num1 % 3 == 0 :\n",
    "    print(\"3의 배수\")\n",
    "    \n",
    "elif num1 % 7 == 0 :\n",
    "    print(\"7의 배수\")\n",
    "    \n",
    "else :\n",
    "    print(\"아무것도 아님\")"
   ]
  },
  {
   "cell_type": "code",
   "execution_count": 18,
   "metadata": {},
   "outputs": [
    {
     "name": "stdout",
     "output_type": "stream",
     "text": [
      "55\n"
     ]
    }
   ],
   "source": [
    "# 1부터 10까지의 합\n",
    "total_sum=0\n",
    "\n",
    "for i in range(11) :\n",
    "    total_sum += i\n",
    "\n",
    "print(total_sum)"
   ]
  },
  {
   "cell_type": "code",
   "execution_count": 19,
   "metadata": {},
   "outputs": [
    {
     "name": "stdout",
     "output_type": "stream",
     "text": [
      "---2 dan---\n",
      "2 * 1 = 2\n",
      "2 * 2 = 4\n",
      "2 * 3 = 6\n",
      "2 * 4 = 8\n",
      "2 * 5 = 10\n",
      "2 * 6 = 12\n",
      "2 * 7 = 14\n",
      "2 * 8 = 16\n",
      "2 * 9 = 18\n",
      "---4 dan---\n",
      "4 * 1 = 4\n",
      "4 * 2 = 8\n",
      "4 * 3 = 12\n",
      "4 * 4 = 16\n",
      "4 * 5 = 20\n",
      "4 * 6 = 24\n",
      "4 * 7 = 28\n",
      "4 * 8 = 32\n",
      "4 * 9 = 36\n",
      "---6 dan---\n",
      "6 * 1 = 6\n",
      "6 * 2 = 12\n",
      "6 * 3 = 18\n",
      "6 * 4 = 24\n",
      "6 * 5 = 30\n",
      "6 * 6 = 36\n",
      "6 * 7 = 42\n",
      "6 * 8 = 48\n",
      "6 * 9 = 54\n",
      "---8 dan---\n",
      "8 * 1 = 8\n",
      "8 * 2 = 16\n",
      "8 * 3 = 24\n",
      "8 * 4 = 32\n",
      "8 * 5 = 40\n",
      "8 * 6 = 48\n",
      "8 * 7 = 56\n",
      "8 * 8 = 64\n",
      "8 * 9 = 72\n"
     ]
    }
   ],
   "source": [
    "# 구구단의 짝수단만 출력\n",
    "odd_sum = 0\n",
    "\n",
    "for i in range(2, 10, 2) :\n",
    "    print(\"---{} dan---\".format(i))\n",
    "\n",
    "    for j in range(1, 10) :\n",
    "        print(\"{} * {} = {}\".format(i, j, j*i))"
   ]
  },
  {
   "cell_type": "code",
   "execution_count": 21,
   "metadata": {},
   "outputs": [
    {
     "name": "stdout",
     "output_type": "stream",
     "text": [
      "2 X 1 = 2\n",
      "2 X 2 = 4\n",
      "2 X 3 = 6\n",
      "2 X 4 = 8\n",
      "2 X 5 = 10\n",
      "2 X 6 = 12\n",
      "2 X 7 = 14\n",
      "2 X 8 = 16\n",
      "2 X 9 = 18\n",
      "4 X 1 = 4\n",
      "4 X 2 = 8\n",
      "4 X 3 = 12\n",
      "4 X 4 = 16\n",
      "4 X 5 = 20\n",
      "4 X 6 = 24\n",
      "4 X 7 = 28\n",
      "4 X 8 = 32\n",
      "4 X 9 = 36\n",
      "6 X 1 = 6\n",
      "6 X 2 = 12\n",
      "6 X 3 = 18\n",
      "6 X 4 = 24\n",
      "6 X 5 = 30\n",
      "6 X 6 = 36\n",
      "6 X 7 = 42\n",
      "6 X 8 = 48\n",
      "6 X 9 = 54\n",
      "8 X 1 = 8\n",
      "8 X 2 = 16\n",
      "8 X 3 = 24\n",
      "8 X 4 = 32\n",
      "8 X 5 = 40\n",
      "8 X 6 = 48\n",
      "8 X 7 = 56\n",
      "8 X 8 = 64\n",
      "8 X 9 = 72\n"
     ]
    }
   ],
   "source": [
    "# 구구단의 짝수단만 출력 - 강사님\n",
    "for i in range(2, 10, 1) :\n",
    "    for j in range(1, 10, 1) :\n",
    "        if i % 2 == 0 :\n",
    "            print(f\"{i} X {j} = {i*j}\")"
   ]
  },
  {
   "cell_type": "code",
   "execution_count": 24,
   "metadata": {},
   "outputs": [
    {
     "name": "stdout",
     "output_type": "stream",
     "text": [
      "120\n"
     ]
    }
   ],
   "source": [
    "# while - 강사님 \n",
    "total = 1\n",
    "n = 5\n",
    "\n",
    "while n > 0 :\n",
    "    total *= n\n",
    "    n -= 1\n",
    "    \n",
    "print(total)"
   ]
  },
  {
   "cell_type": "code",
   "execution_count": 25,
   "metadata": {},
   "outputs": [
    {
     "name": "stdout",
     "output_type": "stream",
     "text": [
      "Hello, Bioinformatics\n"
     ]
    }
   ],
   "source": [
    "# greet 함수 작성 \n",
    "def greet() :\n",
    "    print(\"Hello, Bioinformatics\")\n",
    "    \n",
    "greet()    "
   ]
  },
  {
   "cell_type": "code",
   "execution_count": 26,
   "metadata": {},
   "outputs": [
    {
     "name": "stdout",
     "output_type": "stream",
     "text": [
      "Hello, Bioinformatics\n"
     ]
    }
   ],
   "source": [
    "# greet 함수 작성 \n",
    "def greet() -> None : # return이 없으면 반환되는게 없다는 것을 눈으로 명시적으로 알수있음 \n",
    "        print(\"Hello, Bioinformatics\")\n",
    "    \n",
    "greet()    "
   ]
  },
  {
   "cell_type": "code",
   "execution_count": 31,
   "metadata": {},
   "outputs": [
    {
     "name": "stdout",
     "output_type": "stream",
     "text": [
      "2 + 3 = 5\n",
      "5 + 7 = 12\n",
      "10 + 15 = 25\n"
     ]
    }
   ],
   "source": [
    "# mySum\n",
    "def mySum(n1 : int, n2 : int) -> None :\n",
    "    print(f\"{n1} + {n2} = {n1 + n2}\")\n",
    "\n",
    "mySum(2,3)\n",
    "mySum(5,7)\n",
    "mySum(10, 15)"
   ]
  },
  {
   "cell_type": "code",
   "execution_count": 33,
   "metadata": {},
   "outputs": [
    {
     "name": "stdout",
     "output_type": "stream",
     "text": [
      "2 + 3 = 5\n",
      "5 + 7 = 12\n",
      "10 + 15 = 25\n",
      "None\n",
      "None\n",
      "None\n"
     ]
    }
   ],
   "source": [
    "# mySum\n",
    "def mySum(n1 : int, n2 : int) -> None :\n",
    "    print(f\"{n1} + {n2} = {n1 + n2}\")\n",
    "\n",
    "result1 = mySum(2,3)\n",
    "result2 = mySum(5,7)\n",
    "result3 = mySum(10, 15)\n",
    "\n",
    "print(result1) # return 반환값이 없기 때문에 None이 나옴 # 위에 None써줘서 그런게 아님 \n",
    "print(result2)\n",
    "print(result3)"
   ]
  },
  {
   "cell_type": "code",
   "execution_count": 35,
   "metadata": {},
   "outputs": [
    {
     "name": "stdout",
     "output_type": "stream",
     "text": [
      "5\n",
      "12\n",
      "25\n"
     ]
    }
   ],
   "source": [
    "# mySum\n",
    "def mySum(n1 : int, n2 : int) -> int :\n",
    "    return n1 + n2\n",
    "\n",
    "result1 = mySum(2,3)\n",
    "result2 = mySum(5,7)\n",
    "result3 = mySum(10, 15)\n",
    "\n",
    "print(result1) \n",
    "print(result2)\n",
    "print(result3)"
   ]
  },
  {
   "cell_type": "code",
   "execution_count": 37,
   "metadata": {},
   "outputs": [
    {
     "name": "stdout",
     "output_type": "stream",
     "text": [
      "name : dd\n",
      "Hello dd\n",
      "<class 'str'>\n"
     ]
    }
   ],
   "source": [
    "# input 이용\n",
    "name = input(\"name : \")\n",
    "\n",
    "print(f\"Hello {name}\")\n",
    "\n",
    "print(type(name))"
   ]
  },
  {
   "cell_type": "code",
   "execution_count": 50,
   "metadata": {},
   "outputs": [
    {
     "name": "stdout",
     "output_type": "stream",
     "text": [
      "word : 2\n",
      "num\n"
     ]
    }
   ],
   "source": [
    "# isalpha, isnumeric\n",
    "word = input(\"word : \")\n",
    "\n",
    "if word.isalpha() :\n",
    "    print(\"string\")\n",
    "\n",
    "elif word.isnumeric() :\n",
    "    print(\"num\")\n",
    "    \n",
    "else :\n",
    "    print(\"?\")"
   ]
  },
  {
   "cell_type": "code",
   "execution_count": null,
   "metadata": {},
   "outputs": [],
   "source": []
  },
  {
   "cell_type": "code",
   "execution_count": null,
   "metadata": {},
   "outputs": [],
   "source": [
    "####"
   ]
  },
  {
   "cell_type": "code",
   "execution_count": 51,
   "metadata": {},
   "outputs": [],
   "source": [
    "import sys"
   ]
  },
  {
   "cell_type": "code",
   "execution_count": 52,
   "metadata": {},
   "outputs": [
    {
     "name": "stdout",
     "output_type": "stream",
     "text": [
      "['C:\\\\ana\\\\lib\\\\site-packages\\\\ipykernel_launcher.py', '-f', 'C:\\\\Users\\\\cho ye seul\\\\AppData\\\\Roaming\\\\jupyter\\\\runtime\\\\kernel-11b50ea8-6f57-41f1-b410-84f27c216fa0.json']\n"
     ]
    }
   ],
   "source": [
    "print(sys.argv) # list에서 indexing하는 개념 "
   ]
  },
  {
   "cell_type": "code",
   "execution_count": 53,
   "metadata": {},
   "outputs": [
    {
     "name": "stdout",
     "output_type": "stream",
     "text": [
      "hello -f\n"
     ]
    }
   ],
   "source": [
    "print(f\"hello {sys.argv[1]}\")"
   ]
  },
  {
   "cell_type": "code",
   "execution_count": 54,
   "metadata": {},
   "outputs": [
    {
     "name": "stdout",
     "output_type": "stream",
     "text": [
      "run -> smaple -f\n"
     ]
    }
   ],
   "source": [
    "print(f\"run -> smaple {sys.argv[1]}\")"
   ]
  },
  {
   "cell_type": "code",
   "execution_count": null,
   "metadata": {},
   "outputs": [],
   "source": [
    "for i in 1 2 3 4 5 ; do python 015.py ${i}; done"
   ]
  },
  {
   "cell_type": "code",
   "execution_count": 55,
   "metadata": {},
   "outputs": [
    {
     "ename": "SyntaxError",
     "evalue": "invalid syntax (<ipython-input-55-67144e3ec359>, line 1)",
     "output_type": "error",
     "traceback": [
      "\u001b[1;36m  File \u001b[1;32m\"<ipython-input-55-67144e3ec359>\"\u001b[1;36m, line \u001b[1;32m1\u001b[0m\n\u001b[1;33m    for i in 1 2 3\u001b[0m\n\u001b[1;37m               ^\u001b[0m\n\u001b[1;31mSyntaxError\u001b[0m\u001b[1;31m:\u001b[0m invalid syntax\n"
     ]
    }
   ],
   "source": [
    "for i in 1 2 3 \n",
    "do\n",
    "    python 015.py ${i}\n",
    "done"
   ]
  },
  {
   "cell_type": "code",
   "execution_count": null,
   "metadata": {},
   "outputs": [],
   "source": [
    "sh 015.sh"
   ]
  },
  {
   "cell_type": "code",
   "execution_count": null,
   "metadata": {},
   "outputs": [],
   "source": []
  },
  {
   "cell_type": "code",
   "execution_count": null,
   "metadata": {},
   "outputs": [],
   "source": [
    "########"
   ]
  },
  {
   "cell_type": "code",
   "execution_count": null,
   "metadata": {},
   "outputs": [],
   "source": [
    "# read_sample.txt \n",
    "\n",
    "\"\"\"\n",
    ">header\n",
    "ACGTACGTAAAA\n",
    "TTTAAAGGAAAA\n",
    "\"\"\""
   ]
  },
  {
   "cell_type": "code",
   "execution_count": null,
   "metadata": {},
   "outputs": [],
   "source": [
    "# read_sample.txt  내용 출력 \\n 제외시키고 \n",
    "\n",
    "with open(\"read_sample.txt\", 'r') as handle :\n",
    "    for line in handle :\n",
    "        print(line.strip())"
   ]
  },
  {
   "cell_type": "code",
   "execution_count": 57,
   "metadata": {},
   "outputs": [
    {
     "ename": "FileNotFoundError",
     "evalue": "[Errno 2] No such file or directory: './read_sample.txt'",
     "output_type": "error",
     "traceback": [
      "\u001b[1;31m---------------------------------------------------------------------------\u001b[0m",
      "\u001b[1;31mFileNotFoundError\u001b[0m                         Traceback (most recent call last)",
      "\u001b[1;32m<ipython-input-57-c123fbc65ffe>\u001b[0m in \u001b[0;36m<module>\u001b[1;34m\u001b[0m\n\u001b[1;32m----> 1\u001b[1;33m \u001b[1;32mwith\u001b[0m \u001b[0mopen\u001b[0m\u001b[1;33m(\u001b[0m\u001b[1;34m\"./read_sample.txt\"\u001b[0m\u001b[1;33m,\u001b[0m \u001b[1;34m'r'\u001b[0m\u001b[1;33m)\u001b[0m \u001b[1;32mas\u001b[0m \u001b[0mhandle\u001b[0m \u001b[1;33m:\u001b[0m\u001b[1;33m\u001b[0m\u001b[1;33m\u001b[0m\u001b[0m\n\u001b[0m\u001b[0;32m      2\u001b[0m     \u001b[1;32mfor\u001b[0m \u001b[0mline\u001b[0m \u001b[1;32min\u001b[0m \u001b[0mhandle\u001b[0m \u001b[1;33m:\u001b[0m\u001b[1;33m\u001b[0m\u001b[1;33m\u001b[0m\u001b[0m\n\u001b[0;32m      3\u001b[0m         \u001b[1;32mif\u001b[0m \u001b[0mline\u001b[0m\u001b[1;33m.\u001b[0m\u001b[0mstartswith\u001b[0m\u001b[1;33m(\u001b[0m\u001b[1;34m\">\"\u001b[0m\u001b[1;33m)\u001b[0m \u001b[1;33m:\u001b[0m\u001b[1;33m\u001b[0m\u001b[1;33m\u001b[0m\u001b[0m\n\u001b[0;32m      4\u001b[0m             \u001b[1;32mcontinue\u001b[0m\u001b[1;33m\u001b[0m\u001b[1;33m\u001b[0m\u001b[0m\n\u001b[0;32m      5\u001b[0m         \u001b[0mprint\u001b[0m\u001b[1;33m(\u001b[0m\u001b[0mline\u001b[0m\u001b[1;33m.\u001b[0m\u001b[0mstrip\u001b[0m\u001b[1;33m(\u001b[0m\u001b[1;33m)\u001b[0m\u001b[1;33m)\u001b[0m\u001b[1;33m\u001b[0m\u001b[1;33m\u001b[0m\u001b[0m\n",
      "\u001b[1;31mFileNotFoundError\u001b[0m: [Errno 2] No such file or directory: './read_sample.txt'"
     ]
    }
   ],
   "source": [
    "# read_sample.txt header 부분도 제외시키기 \n",
    "\n",
    "with open(\"./read_sample.txt\", 'r') as handle :\n",
    "    for line in handle :\n",
    "        if line.startswith(\">\") :\n",
    "            continue\n",
    "        print(line.strip())"
   ]
  },
  {
   "cell_type": "code",
   "execution_count": null,
   "metadata": {},
   "outputs": [],
   "source": [
    "####"
   ]
  },
  {
   "cell_type": "code",
   "execution_count": null,
   "metadata": {},
   "outputs": [],
   "source": [
    "#! /usr/bin/env python\n",
    "\n",
    "import sys\n",
    "\n",
    "f = sys.argv[1]\n",
    "\n",
    "with open(f, 'r') as handle :\n",
    "    for line in handle:\n",
    "        if line.startswith(\">\") :\n",
    "            continue\n",
    "        print(line.strip())\n"
   ]
  },
  {
   "cell_type": "code",
   "execution_count": null,
   "metadata": {},
   "outputs": [],
   "source": [
    "#! /usr/bin/env python\n",
    "\n",
    "import sys\n",
    "\n",
    "f = sys.argv[1]\n",
    "d = {}\n",
    "\n",
    "with open(f, 'r') as handle :\n",
    "    for line in handle :\n",
    "        if line.startswith(\">\") :\n",
    "            continue\n",
    "        for s in line.strip() :\n",
    "            if s in d : \n",
    "                d[s] += 1\n",
    "            else :\n",
    "                d[s] = 1\n",
    "\n",
    "print(d)\n",
    "\n",
    "\n",
    "print(\"---------------------------\")\n",
    "\n",
    "python 017.py read_sample.txt"
   ]
  },
  {
   "cell_type": "code",
   "execution_count": null,
   "metadata": {},
   "outputs": [],
   "source": []
  },
  {
   "cell_type": "markdown",
   "metadata": {},
   "source": [
    "#### covid19"
   ]
  },
  {
   "cell_type": "markdown",
   "metadata": {},
   "source": [
    "    ncbi 들어가기\n",
    "\n",
    "    covid 19 \n",
    "\n",
    "    send to \n",
    "    file\n",
    "    FASTA\n",
    "    create File\n",
    "\n",
    "    covid_19.fasta 로 이름 바꾸기"
   ]
  },
  {
   "cell_type": "code",
   "execution_count": null,
   "metadata": {},
   "outputs": [],
   "source": [
    "#! /usr/bin/env python\n",
    "\n",
    "import sys\n",
    "\n",
    "f = sys.argv[1]\n",
    "d = {}\n",
    "\n",
    "with open(f, 'r') as handle :\n",
    "    for line in handle :\n",
    "        if line.startswith(\">\") :\n",
    "            continue\n",
    "        for s in line.strip() :\n",
    "            if s in d : \n",
    "                d[s] += 1\n",
    "            else :\n",
    "                d[s] = 1\n",
    "\n",
    "print(d)\n",
    "\n",
    "total = 0\n",
    "for k, v in d.items() : # dic \n",
    "    total += v\n",
    "print(total)\n",
    "\n",
    "\n",
    "print(\"---------------------------\")\n",
    "\n",
    "python covid.py covid_19.fasta"
   ]
  },
  {
   "cell_type": "code",
   "execution_count": 58,
   "metadata": {},
   "outputs": [
    {
     "ename": "IndentationError",
     "evalue": "expected an indented block (<ipython-input-58-0aabef46e123>, line 7)",
     "output_type": "error",
     "traceback": [
      "\u001b[1;36m  File \u001b[1;32m\"<ipython-input-58-0aabef46e123>\"\u001b[1;36m, line \u001b[1;32m7\u001b[0m\n\u001b[1;33m    f = sys.argv[1]\u001b[0m\n\u001b[1;37m    ^\u001b[0m\n\u001b[1;31mIndentationError\u001b[0m\u001b[1;31m:\u001b[0m expected an indented block\n"
     ]
    }
   ],
   "source": [
    "#! /usr/bin/env python\n",
    "\n",
    "import sys\n",
    "\n",
    "if len(sys.argv) != 2 :\n",
    "    print(f\"#usage: python {sys.argv[0]} [fasta]\") # 오류 안나게 \n",
    "    sys.exit()\n",
    "\n",
    "f = sys.argv[1]\n",
    "d = {}\n",
    "\n",
    "with open(f, 'r') as handle :\n",
    "    for line in handle :\n",
    "        if line.startswith(\">\") :\n",
    "            continue\n",
    "        for s in line.strip() :\n",
    "            if s in d : \n",
    "                d[s] += 1\n",
    "            else :\n",
    "                d[s] = 1\n",
    "\n",
    "print(d)\n",
    "\n",
    "total = 0\n",
    "for k, v in d.items() : # dic \n",
    "    total += v\n",
    "print(total)\n",
    "\n",
    "\n",
    "print(\"---------------------------\")\n",
    "\n",
    "python covid.py covid_19.fasta"
   ]
  },
  {
   "cell_type": "code",
   "execution_count": 59,
   "metadata": {},
   "outputs": [
    {
     "ename": "SyntaxError",
     "evalue": "invalid syntax (<ipython-input-59-ac8e37a8e2c0>, line 43)",
     "output_type": "error",
     "traceback": [
      "\u001b[1;36m  File \u001b[1;32m\"<ipython-input-59-ac8e37a8e2c0>\"\u001b[1;36m, line \u001b[1;32m43\u001b[0m\n\u001b[1;33m    python covid.py covid_19.fasta\u001b[0m\n\u001b[1;37m               ^\u001b[0m\n\u001b[1;31mSyntaxError\u001b[0m\u001b[1;31m:\u001b[0m invalid syntax\n"
     ]
    }
   ],
   "source": [
    "# covid dic 나온거 출력하기 \n",
    "\n",
    "#! /usr/bin/env python\n",
    "\n",
    "import sys\n",
    "\n",
    "if len(sys.argv) != 2 :\n",
    "    print(f\"#usage: python {sys.argv[0]} [fasta]\") # 오류 안나게 \n",
    "    sys.exit()\n",
    "\n",
    "f = sys.argv[1]\n",
    "d = {}\n",
    "\n",
    "with open(f, 'r') as handle :\n",
    "    for line in handle :\n",
    "        if line.startswith(\">\") :\n",
    "            continue\n",
    "        for s in line.strip() :\n",
    "            if s in d : \n",
    "                d[s] += 1\n",
    "            else :\n",
    "                d[s] = 1\n",
    "\n",
    "print(d)\n",
    "\n",
    "total = 0\n",
    "for k, v in d.items() : # dic \n",
    "    total += v\n",
    "\n",
    "# covid dic 나온거 출력하기     \n",
    "with open(\"result.txt\", 'w') as handle :\n",
    "    handle.write(f\"A: {d['A']}\\n\")\n",
    "    handle.write(f\"C: {d['C']}\\n\")\n",
    "    handle.write(f\"G: {d['G']}\\n\")\n",
    "    handle.write(f\"T: {d['T']}\\n\")\n",
    "\n",
    "\n",
    "print(\"---------------------------\")\n",
    "\n",
    "cat result.txt"
   ]
  },
  {
   "cell_type": "code",
   "execution_count": null,
   "metadata": {},
   "outputs": [],
   "source": []
  },
  {
   "cell_type": "code",
   "execution_count": null,
   "metadata": {},
   "outputs": [],
   "source": [
    "# 019.py\n",
    "\n",
    "#! /usr/bin/env python\n",
    "\n",
    "import sys\n",
    "\n",
    "if len(sys.argv) != 2 :\n",
    "    print(\"#usage: python {sys.argv[0]} [txt]\")\n",
    "    sys.exit()\n",
    "\n",
    "f = sys.argv[1]\n",
    "\n",
    "with open(f, 'r') as handle :\n",
    "    read = handle.readlines() # list로 반환\n",
    "\n",
    "print(read)\n",
    "\n",
    "print(\"---------------------------\")\n",
    "\n",
    "python 019.py result.txt"
   ]
  },
  {
   "cell_type": "code",
   "execution_count": null,
   "metadata": {},
   "outputs": [],
   "source": []
  },
  {
   "cell_type": "code",
   "execution_count": null,
   "metadata": {},
   "outputs": [],
   "source": [
    "# 019.py\n",
    "\n",
    "#! /usr/bin/env python\n",
    "\n",
    "import sys\n",
    "\n",
    "if len(sys.argv) != 2 :\n",
    "    print(\"#usage: python {sys.argv[0]} [txt]\")\n",
    "    sys.exit()\n",
    "\n",
    "f = sys.argv[1]\n",
    "\n",
    "try :\n",
    "    with open(f, 'r') as handle :\n",
    "        read = handle.readlines() # list로 반환\n",
    "\n",
    "except FileNotFoundError :\n",
    "    print(f\"{f} not found.. please check..\")\n",
    "    sys.exit()\n",
    "    \n",
    "print(read)\n",
    "\n",
    "print(\"---------------------------\")\n",
    "python 019.py nonono.txt"
   ]
  },
  {
   "cell_type": "code",
   "execution_count": null,
   "metadata": {},
   "outputs": [],
   "source": []
  },
  {
   "cell_type": "code",
   "execution_count": null,
   "metadata": {},
   "outputs": [],
   "source": [
    "# 019-1.py\n",
    "\n",
    "#! /usr/bin/env python\n",
    "\n",
    "import sys\n",
    "\n",
    "if len(sys.argv) != 2 :\n",
    "    print(\"#usage: python {sys.argv[0]} [txt]\")\n",
    "    sys.exit()\n",
    "    \n",
    "num = int(sys.argv[1])\n",
    "try :\n",
    "    print(10 / num)\n",
    "except ZeroDivisioError : \n",
    "    print(\"0으로 못나눠요\")\n",
    "    \n",
    "    \n",
    "print(\"---------------------------\")\n",
    "python 019-1.py 2"
   ]
  },
  {
   "cell_type": "code",
   "execution_count": null,
   "metadata": {},
   "outputs": [],
   "source": [
    "# 019-1.py\n",
    "\n",
    "#! /usr/bin/env python\n",
    "\n",
    "import sys\n",
    "\n",
    "if len(sys.argv) != 2 :\n",
    "    print(\"#usage: python {sys.argv[0]} [txt]\")\n",
    "    sys.exit()\n",
    "    \n",
    "try :    \n",
    "    num = int(sys.argv[1])\n",
    "except ValueError :\n",
    "    print(\"input not valid\")\n",
    "    sys.exit()\n",
    "\n",
    "try :\n",
    "    print(10 / num)\n",
    "except ZeroDivisioError : \n",
    "    print(\"0으로 못나눠요\")\n",
    "    sys.exit()\n",
    "    \n",
    "    \n",
    "print(\"---------------------------\")\n",
    "python 019-1.py 2"
   ]
  },
  {
   "cell_type": "code",
   "execution_count": null,
   "metadata": {},
   "outputs": [],
   "source": [
    "# 019-1.py # 오류 합치기 \n",
    "\n",
    "#! /usr/bin/env python\n",
    "\n",
    "import sys\n",
    "\n",
    "if len(sys.argv) != 2 :\n",
    "    print(\"#usage: python {sys.argv[0]} [txt]\")\n",
    "    sys.exit()\n",
    "    \n",
    "try :    \n",
    "    num = int(sys.argv[1])\n",
    "    print(10 / num)\n",
    "except ValueError :\n",
    "    print(\"input not valid\")\n",
    "    sys.exit()\n",
    "except ZeroDivisioError : \n",
    "    print(\"0 dont divide it\")\n",
    "    sys.exit()\n",
    "    \n",
    "    \n",
    "print(\"---------------------------\")\n",
    "python 019-1.py 2"
   ]
  },
  {
   "cell_type": "code",
   "execution_count": null,
   "metadata": {},
   "outputs": [],
   "source": []
  },
  {
   "cell_type": "code",
   "execution_count": 61,
   "metadata": {},
   "outputs": [
    {
     "name": "stdout",
     "output_type": "stream",
     "text": [
      "Bioinformatics\n"
     ]
    }
   ],
   "source": [
    "# 020.py\n",
    "\n",
    "s1 = \"Bio\"\n",
    "s2 = \"informatics\"\n",
    "s = s1 + s2\n",
    "print(s)"
   ]
  },
  {
   "cell_type": "code",
   "execution_count": 63,
   "metadata": {},
   "outputs": [
    {
     "data": {
      "text/plain": [
       "'TTA'"
      ]
     },
     "execution_count": 63,
     "metadata": {},
     "output_type": "execute_result"
    }
   ],
   "source": [
    "# 021.py\n",
    "\n",
    "s = \"AGTTTATAG\"\n",
    "\n",
    "s[5]\n",
    "\n",
    "s[3:6]"
   ]
  },
  {
   "cell_type": "code",
   "execution_count": 65,
   "metadata": {},
   "outputs": [
    {
     "data": {
      "text/plain": [
       "9"
      ]
     },
     "execution_count": 65,
     "metadata": {},
     "output_type": "execute_result"
    }
   ],
   "source": [
    "# 022.py\n",
    "s = \"AGTTTATAG\"\n",
    "\n",
    "len(s)"
   ]
  },
  {
   "cell_type": "code",
   "execution_count": 67,
   "metadata": {},
   "outputs": [
    {
     "data": {
      "text/plain": [
       "'atgttatag'"
      ]
     },
     "execution_count": 67,
     "metadata": {},
     "output_type": "execute_result"
    }
   ],
   "source": [
    "# 024\n",
    "s = \"ATGttaTaG\"\n",
    "\n",
    "s.upper()\n",
    "\n",
    "s.lower()"
   ]
  },
  {
   "cell_type": "code",
   "execution_count": null,
   "metadata": {},
   "outputs": [],
   "source": []
  },
  {
   "cell_type": "code",
   "execution_count": null,
   "metadata": {},
   "outputs": [],
   "source": []
  },
  {
   "cell_type": "code",
   "execution_count": null,
   "metadata": {},
   "outputs": [],
   "source": []
  },
  {
   "cell_type": "code",
   "execution_count": null,
   "metadata": {},
   "outputs": [],
   "source": []
  },
  {
   "cell_type": "code",
   "execution_count": null,
   "metadata": {},
   "outputs": [],
   "source": []
  },
  {
   "cell_type": "code",
   "execution_count": null,
   "metadata": {},
   "outputs": [],
   "source": []
  }
 ],
 "metadata": {
  "kernelspec": {
   "display_name": "Python 3",
   "language": "python",
   "name": "python3"
  },
  "language_info": {
   "codemirror_mode": {
    "name": "ipython",
    "version": 3
   },
   "file_extension": ".py",
   "mimetype": "text/x-python",
   "name": "python",
   "nbconvert_exporter": "python",
   "pygments_lexer": "ipython3",
   "version": "3.7.4"
  }
 },
 "nbformat": 4,
 "nbformat_minor": 2
}
