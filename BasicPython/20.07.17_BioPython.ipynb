{
 "cells": [
  {
   "cell_type": "markdown",
   "metadata": {},
   "source": [
    "### 20.07.17_BioPython\n",
    "    일시 : 2020/07/17\n",
    "    강사님 : 김태윤 연구원님(마크로젠) \n",
    "    기록 : 조예슬\n",
    "    내용 : \n",
    "         - "
   ]
  },
  {
   "cell_type": "code",
   "execution_count": null,
   "metadata": {},
   "outputs": [],
   "source": [
    "# conda activate py37\n",
    "# which python "
   ]
  },
  {
   "cell_type": "code",
   "execution_count": null,
   "metadata": {},
   "outputs": [],
   "source": [
    "# microsoft store 가서\n",
    "# window terminal 검색\n",
    "# windows terminal app 설치하기 \n",
    "# wsl 로 본다\n",
    "# ssh로 서버들어가서 본다"
   ]
  },
  {
   "cell_type": "markdown",
   "metadata": {},
   "source": [
    "### 클래스"
   ]
  },
  {
   "cell_type": "code",
   "execution_count": 12,
   "metadata": {},
   "outputs": [
    {
     "name": "stdout",
     "output_type": "stream",
     "text": [
      "10\n",
      "Hello\n",
      "Hi!\n"
     ]
    }
   ],
   "source": [
    "class Coffee() : # Coffee라는 이름을 가진 클래스 \n",
    "    \n",
    "    numCoffee = 10\n",
    "    \n",
    "    def Hello(self) :\n",
    "        print(\"Hello\")\n",
    "        return \"Hi!\"\n",
    "    \n",
    "group1_coffee = Coffee() \n",
    "# group1_coffee 는 객체다 \n",
    "# group1_coffee 는 coffee class의 instance 다\n",
    "\n",
    "print(group1_coffee.numCoffee) # 10\n",
    "\n",
    "out = group1_coffee.Hello() # Hello # 클래스 안에 있는 Hello라는 함수를 찾아감 \n",
    "\n",
    "print(out) # Hi"
   ]
  },
  {
   "cell_type": "code",
   "execution_count": 27,
   "metadata": {},
   "outputs": [
    {
     "name": "stdout",
     "output_type": "stream",
     "text": [
      "<bound method Person.printNation of <__main__.Person object at 0x0000025D7FCDFA48>>\n",
      "A nation\n",
      "None\n",
      "A nation\n",
      "changeNation to Korea\n",
      "Korea\n"
     ]
    }
   ],
   "source": [
    "class Person :\n",
    "    nation = \"A nation\"\n",
    "    \n",
    "    def greeting(self) :\n",
    "        print(\"greeting!\")\n",
    "    \n",
    "    def printNation(self) :\n",
    "        print(self.nation)\n",
    "    \n",
    "    def changeNation(self, target) :\n",
    "        self.nation = target\n",
    "        print(\"changeNation to {}\".format(target))\n",
    "        \n",
    "yune = Person()\n",
    "yune.nation\n",
    "print(yune.printNation) # <bound method Person.printNation of <__main__.Person object at 0x0000025D7FC7D9C8>>\n",
    "print(yune.printNation()) # A nation, None\n",
    "yune.printNation() # A nation\n",
    "yune.changeNation('Korea') # changeNation to Korea\n",
    "yune.printNation() # Korea"
   ]
  },
  {
   "cell_type": "code",
   "execution_count": 28,
   "metadata": {},
   "outputs": [
    {
     "name": "stdout",
     "output_type": "stream",
     "text": [
      "yune is Person\n"
     ]
    }
   ],
   "source": [
    "class Person :\n",
    "    nation = \"A nation\"\n",
    "    \n",
    "    def greeting(self) :\n",
    "        print(\"greeting!\")\n",
    "    \n",
    "    def printNation(self) :\n",
    "        print(self.nation)\n",
    "    \n",
    "    def changeNation(self, target) :\n",
    "        self.nation = target\n",
    "        print(\"changeNation to {}\".format(target))\n",
    "        \n",
    "yune = Person()\n",
    "\n",
    "if isinstance(yune, Person) : # isinstance(yune, Person) 하면 True 값 나옴 \n",
    "    print(\"yune is Person\")\n",
    "else : \n",
    "    print('yune isnt Person')"
   ]
  },
  {
   "cell_type": "code",
   "execution_count": 34,
   "metadata": {},
   "outputs": [
    {
     "name": "stdout",
     "output_type": "stream",
     "text": [
      "True\n",
      "True\n",
      "True\n",
      "False\n"
     ]
    }
   ],
   "source": [
    "#\n",
    "out = isinstance(1, int) # 1이 int 니? \n",
    "\n",
    "print(out) # True\n",
    "\n",
    "# \n",
    "out = isinstance(1, (int, str)) # 1이라는 객체가 int or str 이냐?\n",
    "\n",
    "print(out) # True\n",
    "\n",
    "# \n",
    "out = isinstance('aaa', (int, str))\n",
    "\n",
    "print(out) # True\n",
    "\n",
    "#\n",
    "out = isinstance('aaa', int)\n",
    "\n",
    "print(out) # False"
   ]
  },
  {
   "cell_type": "code",
   "execution_count": 36,
   "metadata": {},
   "outputs": [],
   "source": [
    "class Person() :\n",
    "    nation = 'A country'\n",
    "    \n",
    "    def cN(self, target) :\n",
    "        self.nation = target\n",
    "        \n",
    "    def pN(self) :\n",
    "        print(self.nation)\n",
    "        \n",
    "a = Person()\n",
    "b = Person()\n",
    "a.cN(\"bbbbb\")\n"
   ]
  },
  {
   "cell_type": "code",
   "execution_count": 56,
   "metadata": {},
   "outputs": [
    {
     "name": "stdout",
     "output_type": "stream",
     "text": [
      "I'm Niklas\n",
      "I'm from Germany\n",
      "\n",
      "I'm Mark\n",
      "I'm from USA\n"
     ]
    }
   ],
   "source": [
    "# 국적 클래스 만들기\n",
    "\n",
    "d_persons = {'Guillaume':'Canada', 'Niklas':'Germany', 'Mark':'USA', 'Ale':'Swiss', 'Alberto':'Italia'}\n",
    "\n",
    "\n",
    "class Person() :\n",
    "    nation = 'A country'\n",
    "    name = 'username'\n",
    "    \n",
    "    def setName(self, target) :\n",
    "        self.name = target\n",
    "        print(\"I'm {}\".format(target))\n",
    "        \n",
    "    def assignNation(self, target) :\n",
    "        nation = d_persons[target]\n",
    "        self.name = nation\n",
    "        print(\"I'm from {}\".format(nation))\n",
    "        \n",
    "info = Person()\n",
    "info.nation\n",
    "info.name\n",
    "\n",
    "info.setName('Niklas')\n",
    "info.assignNation('Niklas')\n",
    "print()\n",
    "\n",
    "info.setName('Mark')\n",
    "info.assignNation('Mark')\n",
    "print()"
   ]
  },
  {
   "cell_type": "code",
   "execution_count": 64,
   "metadata": {},
   "outputs": [
    {
     "name": "stdout",
     "output_type": "stream",
     "text": [
      "Guillaume\n",
      "Canada\n",
      "\n",
      "Niklas\n",
      "Germany\n",
      "\n",
      "Mark\n",
      "USA\n",
      "\n",
      "Ale\n",
      "Swiss\n",
      "\n",
      "Alberto\n",
      "Italia\n",
      "\n"
     ]
    }
   ],
   "source": [
    "# 국적 클래스 만들기 - 강사님 \n",
    "\n",
    "# 전역변수 \n",
    "d_persons = {'Guillaume':'Canada', 'Niklas':'Germany', 'Mark':'USA', 'Ale':'Swiss', 'Alberto':'Italia'}\n",
    "\n",
    "class Person() :\n",
    "    nation = 'A country' # 속성\n",
    "    name = 'username'\n",
    "    \n",
    "    def setName(self, target) : # 함수 = 매서드, 특정 실행코드를 가지고 있다\n",
    "        self.name = target\n",
    "        \n",
    "    def findNation(self, d_dict) :\n",
    "        self.nation = d_dict[self.name]\n",
    "        \n",
    "    def showName(self) :\n",
    "        print(self.name)\n",
    "#         print(self.name, end = ' ')\n",
    "    def showNation(self) :\n",
    "        print(self.nation)\n",
    "#         print(self.nation, end = ' ')\n",
    "    \n",
    "## 확인1\n",
    "# p1 = Person() # 같은 클래스이므로 매서드 갖은거 똑같을 것\n",
    "# p2 = Person()\n",
    "# p3 = Person()\n",
    "# p4 = Person()\n",
    "# p5 = Person()\n",
    "\n",
    "# p1.setName(list(d_persons.keys())[0])    \n",
    "# p2.setName(list(d_persons.keys())[1])    \n",
    "# p3.setName(list(d_persons.keys())[2])    \n",
    "# p4.setName(list(d_persons.keys())[3])    \n",
    "# p5.setName(list(d_persons.keys())[4])    \n",
    "\n",
    "# p1.showName() # p1 객체의 name속성이 출력될 것 \n",
    "# p2.showName()\n",
    "# p3.showName()\n",
    "# p4.showName()\n",
    "# p5.showName()\n",
    "\n",
    "# p1.findNation(d_persons)\n",
    "# p2.findNation(d_persons)\n",
    "# p3.findNation(d_persons)\n",
    "# p4.findNation(d_persons)\n",
    "# p5.findNation(d_persons)\n",
    "\n",
    "# p1.showNation()\n",
    "# p2.showNation()\n",
    "# p3.showNation()\n",
    "# p4.showNation()\n",
    "# p5.showNation()\n",
    "\n",
    "## 확인 2  - for 구문으로 이용해보기 \n",
    "# l_p = []\n",
    "# for i in range(len(d_persons)) :\n",
    "#     l_p.append(Person())\n",
    "#     l_p[i].setName(list(d_persons.keys())[i])\n",
    "#     l_p[i].findNation(d_persons)\n",
    "    \n",
    "# for i in range(len(d_persons)) :\n",
    "#     l_p[i].showName()\n",
    "#     l_p[i].showNation()\n",
    "#     print()\n",
    "    \n",
    "## 확인 3  - for 구문으로 이용해보기 2\n",
    "for i in range(len(d_persons)) :\n",
    "    PP = Person()\n",
    "    PP.setName(list(d_persons.keys())[i])\n",
    "    PP.findNation(d_persons)\n",
    "    PP.showName()\n",
    "    PP.showNation()\n",
    "    print()\n"
   ]
  },
  {
   "cell_type": "code",
   "execution_count": 2,
   "metadata": {},
   "outputs": [
    {
     "name": "stdout",
     "output_type": "stream",
     "text": [
      "37\n",
      "10\n"
     ]
    }
   ],
   "source": [
    "def add(a, b) :\n",
    "    return a + b\n",
    "\n",
    "print(add('3', '7')) # '37'\n",
    "print(add(3, 7)) # 10"
   ]
  },
  {
   "cell_type": "code",
   "execution_count": 5,
   "metadata": {},
   "outputs": [
    {
     "name": "stdout",
     "output_type": "stream",
     "text": [
      "str1\n",
      "str1str2\n"
     ]
    }
   ],
   "source": [
    "# 항상 숫자인 변수 만들어주기 \n",
    "# 저장된 함수인 class 함수 작성\n",
    "\n",
    "class Person() :\n",
    "    s_str1 = 'str1' # 속성 \n",
    "    s_str2 = 'str2'\n",
    "    \n",
    "    def prtStr(self) :\n",
    "        out = self.s_str1 + self.s_str2\n",
    "        print(out)\n",
    "        \n",
    "    def shows_str1(self) : \n",
    "        print(self.s_str1)\n",
    "        \n",
    "p1 = Person()\n",
    "\n",
    "# print(p1.s_str1) # 이렇게 작성하지 말것!!\n",
    "\"\"\"\n",
    "p1.s_str1 += 'aa'\n",
    "p1 개체의 s_str1이라는 속성에 접근햇는데 \n",
    "'aa'라는 string을 더하고자했다\n",
    "'aa'가 정상적으로 붙어버렸다\n",
    "이런식으로 접근시키면 안된다\n",
    "\"\"\"\n",
    "p1.shows_str1() # 이렇게 작성할 것!!\n",
    "\n",
    "p1.prtStr()"
   ]
  },
  {
   "cell_type": "code",
   "execution_count": 12,
   "metadata": {},
   "outputs": [
    {
     "name": "stdout",
     "output_type": "stream",
     "text": [
      "(method)greeting : Hi!!!!!!\n",
      "(method)greeting : Hi!!!!!!\n",
      "(func)greeting : Hello\n",
      "(func)greeting : Hello\n"
     ]
    }
   ],
   "source": [
    "class Person() :\n",
    "    nation = 'A nation' # class Person의 속성1개 \n",
    "    \n",
    "    def greeting(self) : # 메서드 \n",
    "        print(\"(method)greeting : Hi!!!!!!\")\n",
    "        \n",
    "    def hi1(self) :\n",
    "        self.greeting() # self 붙었으니 메서드 실행    \n",
    "        \n",
    "    def hi2(self) :\n",
    "        greeting() # 함수 실행 # 웬만해서는 밖에 있는 것에 접근하지 말것 \n",
    "        \n",
    "        \n",
    "def greeting() :\n",
    "    print(\"(func)greeting : Hello\")\n",
    "    \n",
    "p1 = Person() # p1 은 인스턴스라함 \n",
    "p1.greeting()\n",
    "p1.hi1()\n",
    "p1.hi2()\n",
    "greeting()"
   ]
  },
  {
   "cell_type": "code",
   "execution_count": 2,
   "metadata": {},
   "outputs": [
    {
     "name": "stdout",
     "output_type": "stream",
     "text": [
      "Korea\n"
     ]
    }
   ],
   "source": [
    "# init\n",
    "\n",
    "class Person() :\n",
    "    \n",
    "    def __init__(self, country) : \n",
    "        # 객체가 생성될때 실행됨 # self가 뒤의 country를 받음 \n",
    "        self.nation = country # country가 nation으로 저장됨\n",
    "        \n",
    "    def showNation(self) :\n",
    "        print(self.nation) # nation이 print 됨 \n",
    "        # self : 메소드를 실행한 객체\n",
    "        # self가 있다 - 객체가 있다 - 객체의 접근가능\n",
    "    \n",
    "yune = Person('Korea') # 인스턴스(객체) 생성 -> __init__ 실행됨 \n",
    "yune.showNation()"
   ]
  },
  {
   "cell_type": "code",
   "execution_count": 10,
   "metadata": {},
   "outputs": [
    {
     "name": "stdout",
     "output_type": "stream",
     "text": [
      "myeo~\n",
      "야옹\n",
      "True\n"
     ]
    }
   ],
   "source": [
    "# 상속\n",
    "# 부모클래스가 가진 속성, 메서드 모두다 자식 클래스가 상속받음\n",
    "# 자식 클래스에서 메서드를 만들지않아도 똑같이 사용 가능\n",
    "\n",
    "class Cat : # 부모 # 공통적인 내용 코딩 # 여러 자식들이 공용으로 사용할 수 있는 \n",
    "    def __init__(self) :\n",
    "        self.sleepy = True\n",
    "        \n",
    "    def snack(self) :\n",
    "        print('myeo~')\n",
    "        \n",
    "class KoShort(Cat) : # 자식 # 상속받을때 부모 클래스Cat의 모든 정보를 다 가지고 온다  \n",
    "# 부모클래스로부터 상속받지 않았다면 아래의 함수들을 다 입력해줬어야함 \n",
    "#     def __init__(self) :\n",
    "#         self.sleepy = True\n",
    "        \n",
    "#     def snack(self) :\n",
    "#         print('myeo~')\n",
    "        \n",
    "    def snack_Kor(self) :\n",
    "        print(\"야옹\")\n",
    "\n",
    "minyong = KoShort()\n",
    "\n",
    "minyong.snack() # \n",
    "minyong.snack_Kor() \n",
    "print(minyong.sleepy) # True"
   ]
  },
  {
   "cell_type": "code",
   "execution_count": 11,
   "metadata": {},
   "outputs": [
    {
     "name": "stdout",
     "output_type": "stream",
     "text": [
      "야옹\n",
      "True\n"
     ]
    }
   ],
   "source": [
    "# 메소드 오버라이딩\n",
    "# 상속을 할 때, 기존의 함수가 필요없어지는 경우\n",
    "# 부모클래스에서 정의되어있는 메소드를 자식클래스에서 새로 정의하여 사용할 수 있음\n",
    "\n",
    "class Cat :\n",
    "    def __init__(self) :\n",
    "        self.sleepy = True\n",
    "        \n",
    "    def snack(self) :\n",
    "        print('myeo~')\n",
    "        \n",
    "class KoShort(Cat) :\n",
    "    def snack(self) : \n",
    "        print(\"야옹\")\n",
    "\n",
    "minyong = KoShort()\n",
    "minyong.snack() # 부모에서는 myeo라고 나오나 자식에서는 야옹이 출력됨 \n",
    "print(minyong.sleepy) "
   ]
  },
  {
   "cell_type": "code",
   "execution_count": 14,
   "metadata": {},
   "outputs": [
    {
     "name": "stdout",
     "output_type": "stream",
     "text": [
      "야옹\n",
      "True\n"
     ]
    }
   ],
   "source": [
    "# 다중 상속\n",
    "\n",
    "class Cat :\n",
    "    def __init__(self) :\n",
    "        self.sleepy = True\n",
    "        \n",
    "    def snack(self) :\n",
    "        print('myeo~')\n",
    "        \n",
    "# class Dog :\n",
    "#     def __init__(self) :\n",
    "#         self.sleepy = True\n",
    "        \n",
    "#     def snack(self) :\n",
    "#         print('멍!')\n",
    "        \n",
    "class KoShort(Cat, Dog) : # 다중\n",
    "    def snack(self) : \n",
    "        print(\"야옹\")\n",
    "\n",
    "minyong = KoShort()\n",
    "minyong.snack() \n",
    "print(minyong.sleepy) "
   ]
  },
  {
   "cell_type": "code",
   "execution_count": 22,
   "metadata": {},
   "outputs": [
    {
     "name": "stdout",
     "output_type": "stream",
     "text": [
      "set age to 7.\n",
      "야옹\n",
      "7 years old.\n",
      "7\n",
      "\n",
      "set age to 7.\n",
      "야옹\n",
      "7 years old.\n"
     ]
    },
    {
     "ename": "AttributeError",
     "evalue": "'KoShort' object has no attribute '__age'",
     "output_type": "error",
     "traceback": [
      "\u001b[1;31m-----------------------------------------------------------------\u001b[0m",
      "\u001b[1;31mAttributeError\u001b[0m                  Traceback (most recent call last)",
      "\u001b[1;32m<ipython-input-22-49e7d2f424c0>\u001b[0m in \u001b[0;36m<module>\u001b[1;34m\u001b[0m\n\u001b[0;32m     50\u001b[0m \u001b[0mminyong\u001b[0m\u001b[1;33m.\u001b[0m\u001b[0msnack\u001b[0m\u001b[1;33m(\u001b[0m\u001b[1;33m)\u001b[0m\u001b[1;33m\u001b[0m\u001b[1;33m\u001b[0m\u001b[0m\n\u001b[0;32m     51\u001b[0m \u001b[0mminyong\u001b[0m\u001b[1;33m.\u001b[0m\u001b[0mshowAge\u001b[0m\u001b[1;33m(\u001b[0m\u001b[1;33m)\u001b[0m\u001b[1;33m\u001b[0m\u001b[1;33m\u001b[0m\u001b[0m\n\u001b[1;32m---> 52\u001b[1;33m \u001b[0mprint\u001b[0m\u001b[1;33m(\u001b[0m\u001b[0mminyong\u001b[0m\u001b[1;33m.\u001b[0m\u001b[0m__age\u001b[0m\u001b[1;33m)\u001b[0m\u001b[1;33m\u001b[0m\u001b[1;33m\u001b[0m\u001b[0m\n\u001b[0m",
      "\u001b[1;31mAttributeError\u001b[0m: 'KoShort' object has no attribute '__age'"
     ]
    }
   ],
   "source": [
    "## 비공개 속성 사용\n",
    "# 개체를 사용해서 속성에 접근하면 안좋다\n",
    "# 예상치 못한 계산으로 객체의 속성을 변경할 수 있어서 안좋음\n",
    "# 개체의 속성은 약속한대로 바뀌어야한다\n",
    "# 그래서 비공개 속성을 만들게됨 \n",
    "\n",
    "# 공개 속성 \n",
    "class Cat :\n",
    "    def __init__(self) :\n",
    "        self.sleepy = True    \n",
    "    def snack(self) :\n",
    "        print('myeo~')\n",
    "        \n",
    "class KoShort(Cat) :\n",
    "    def setAge(self, Age) :\n",
    "        self.age = Age\n",
    "        print(\"set age to {0}.\".format(Age))\n",
    "    def showAge(self) :\n",
    "        print(\"{0} years old.\".format(self.age))\n",
    "    def snack(self) : \n",
    "        # 부모에서도 있었다 상속받고 메서드 오버라이딩 함 # KoShort이 이용한 snack 메서드는 다 야옹이라함\n",
    "        print(\"야옹\")\n",
    "        \n",
    "minyong = KoShort()\n",
    "minyong.setAge(7)\n",
    "minyong.snack()\n",
    "minyong.showAge() # minyong이라는 개체가 가진 속성\n",
    "print(minyong.age)\n",
    "\n",
    "print()\n",
    "\n",
    "# 비공개 속성\n",
    "class Cat :\n",
    "    def __init__(self) :\n",
    "        self.sleepy = True    \n",
    "    def snack(self) :\n",
    "        print('myeo~')\n",
    "        \n",
    "class KoShort(Cat) :\n",
    "    def setAge(self, Age) :\n",
    "        self.__age = Age # __로 시작하는 속성은 비공개 속성, class 밖에서 접근할 수 없음 \n",
    "        print(\"set age to {0}.\".format(Age))\n",
    "    def showAge(self) :\n",
    "        print(\"{0} years old.\".format(self.__age))\n",
    "    def snack(self) : \n",
    "        print(\"야옹\")\n",
    "        \n",
    "minyong = KoShort()\n",
    "minyong.setAge(7) # 인스턴스가 가진 class의 메서드 원활하게 잘 처리됨 \n",
    "minyong.snack()\n",
    "minyong.showAge() \n",
    "print(minyong.__age) \n",
    "# 객체의 비공개속성에 직접 접근하면, 에러남 \n",
    "# 볼 수 없어서 그럼 __age 속성을 보려면 같은 class 안의 메서드만이 비공개 속성에 들어갈수잇음\n",
    "# 비공개 속성은 같은 class안에서만 쓰이는 것\n",
    "\n",
    "# 중요한 자료 처리할 때는 아는 행동만 해야함 "
   ]
  },
  {
   "cell_type": "code",
   "execution_count": 25,
   "metadata": {},
   "outputs": [
    {
     "name": "stdout",
     "output_type": "stream",
     "text": [
      "set age to 7.\n",
      "야옹\n",
      "9 years old.\n",
      "\n",
      "set age to 7.\n",
      "야옹\n"
     ]
    },
    {
     "ename": "AttributeError",
     "evalue": "'KoShort' object has no attribute '__age'",
     "output_type": "error",
     "traceback": [
      "\u001b[1;31m-----------------------------------------------------------------\u001b[0m",
      "\u001b[1;31mAttributeError\u001b[0m                  Traceback (most recent call last)",
      "\u001b[1;32m<ipython-input-25-d03a8e3f0c55>\u001b[0m in \u001b[0;36m<module>\u001b[1;34m\u001b[0m\n\u001b[0;32m     41\u001b[0m \u001b[0mminyong\u001b[0m\u001b[1;33m.\u001b[0m\u001b[0msetAge\u001b[0m\u001b[1;33m(\u001b[0m\u001b[1;36m7\u001b[0m\u001b[1;33m)\u001b[0m \u001b[1;31m# 인스턴스가 가진 class의 메서드 원활하게 잘 처리됨\u001b[0m\u001b[1;33m\u001b[0m\u001b[1;33m\u001b[0m\u001b[0m\n\u001b[0;32m     42\u001b[0m \u001b[0mminyong\u001b[0m\u001b[1;33m.\u001b[0m\u001b[0msnack\u001b[0m\u001b[1;33m(\u001b[0m\u001b[1;33m)\u001b[0m\u001b[1;33m\u001b[0m\u001b[1;33m\u001b[0m\u001b[0m\n\u001b[1;32m---> 43\u001b[1;33m \u001b[0mminyong\u001b[0m\u001b[1;33m.\u001b[0m\u001b[0m__age\u001b[0m \u001b[1;33m+=\u001b[0m \u001b[1;36m2\u001b[0m\u001b[1;33m\u001b[0m\u001b[1;33m\u001b[0m\u001b[0m\n\u001b[0m\u001b[0;32m     44\u001b[0m \u001b[0mminyong\u001b[0m\u001b[1;33m.\u001b[0m\u001b[0mshowAge\u001b[0m\u001b[1;33m(\u001b[0m\u001b[1;33m)\u001b[0m\u001b[1;33m\u001b[0m\u001b[1;33m\u001b[0m\u001b[0m\n\u001b[0;32m     45\u001b[0m \u001b[0mprint\u001b[0m\u001b[1;33m(\u001b[0m\u001b[0mminyong\u001b[0m\u001b[1;33m.\u001b[0m\u001b[0m__age\u001b[0m\u001b[1;33m)\u001b[0m\u001b[1;33m\u001b[0m\u001b[1;33m\u001b[0m\u001b[0m\n",
      "\u001b[1;31mAttributeError\u001b[0m: 'KoShort' object has no attribute '__age'"
     ]
    }
   ],
   "source": [
    "class Cat :\n",
    "    def __init__(self) :\n",
    "        self.sleepy = True    \n",
    "    def snack(self) :\n",
    "        print('myeo~')\n",
    "        \n",
    "class KoShort(Cat) :\n",
    "    def setAge(self, Age) :\n",
    "        self.age = Age\n",
    "        print(\"set age to {0}.\".format(Age))\n",
    "    def showAge(self) :\n",
    "        print(\"{0} years old.\".format(self.age))\n",
    "    def snack(self) : \n",
    "        print(\"야옹\")\n",
    "        \n",
    "minyong = KoShort()\n",
    "minyong.setAge(7)\n",
    "minyong.snack()\n",
    "minyong.age += 2 # s나이가 추가 되어버림\n",
    "minyong.showAge() \n",
    "\n",
    "print()\n",
    "\n",
    "# 비공개 속성\n",
    "class Cat :\n",
    "    def __init__(self) :\n",
    "        self.sleepy = True    \n",
    "    def snack(self) :\n",
    "        print('myeo~')\n",
    "        \n",
    "class KoShort(Cat) :\n",
    "    def setAge(self, Age) :\n",
    "        self.__age = Age # __로 시작하는 속성은 비공개 속성, class 밖에서 접근할 수 없음 \n",
    "        print(\"set age to {0}.\".format(Age))\n",
    "    def showAge(self) :\n",
    "        print(\"{0} years old.\".format(self.__age))\n",
    "    def snack(self) : \n",
    "        print(\"야옹\")\n",
    "        \n",
    "minyong = KoShort()\n",
    "minyong.setAge(7) # 인스턴스가 가진 class의 메서드 원활하게 잘 처리됨 \n",
    "minyong.snack()\n",
    "minyong.__age += 2 # 나이 추가 안됨\n",
    "minyong.showAge() \n",
    "print(minyong.__age) "
   ]
  },
  {
   "cell_type": "code",
   "execution_count": 46,
   "metadata": {},
   "outputs": [
    {
     "name": "stdout",
     "output_type": "stream",
     "text": [
      "Korea :  80\n",
      "English :  50\n",
      "Math :  95\n",
      "Evarage :  75.0\n"
     ]
    }
   ],
   "source": [
    "# 학생 점수 클래스\n",
    "\n",
    "class Student :\n",
    "    def __init__(self, Kor, Eng, Math) :\n",
    "        self.__korean = Kor\n",
    "        self.__english = Eng\n",
    "        self.__math = Math\n",
    "        \n",
    "    def showKorean(self) :\n",
    "        print(\"Korea : \", self.__korean)\n",
    "        \n",
    "    def showEnglish(self) :\n",
    "        print(\"English : \", self.__english)\n",
    "        \n",
    "    def showMath(self) :\n",
    "        print(\"Math : \", self.__math)\n",
    "        \n",
    "    def showEverage(self) :\n",
    "#         totalScore = (self.__korean + self.__english + self.__math) / 3 # 이것보단 아래처럼 써주는게 좋음\n",
    "        totalScore = self.__korean\n",
    "        totalScore += self.__english\n",
    "        totalScore += self.__math\n",
    "        totalScore /= 3\n",
    "        print(\"Evarage : \", totalScore)\n",
    "        \n",
    "score = Student(Kor = 80, Eng = 50, Math = 95)\n",
    "score.showKorean()\n",
    "score.showEnglish()\n",
    "score.showMath()\n",
    "score.showEverage()"
   ]
  },
  {
   "cell_type": "code",
   "execution_count": 2,
   "metadata": {},
   "outputs": [],
   "source": [
    "# 은행 계좌 클래스\n",
    "\n",
    "class Account : \n",
    "    \n",
    "    # 계좌 생성시 : 계좌번호, 이름, 비밀번호, 잔액\n",
    "    def __init__(self, account_num, name, passwd, balance) :\n",
    "        self.account_num = account_num\n",
    "        self.name = name\n",
    "        self.passwd = passwd\n",
    "        self.balance = balance\n",
    "    \n",
    "    # 입금 : 입금액\n",
    "    def deposit(self, deposit_amount) :\n",
    "        self.balance += deposit_amount\n",
    "        print(\"Account_num : \", self.account_num)\n",
    "        print(\"Balance : \", self.balance)\n",
    "        print(\"---------------------------------------\")\n",
    "        \n",
    "    # 출금 : 출금액\n",
    "    def withdraw(self, withdraw_amount) :\n",
    "        self.balance -= withdraw_amount\n",
    "        print(\"Account_num : \", self.account_num)\n",
    "        print(\"Balance : \", self.balance)\n",
    "        print(\"---------------------------------------\")\n",
    "    \n",
    "    # 이체 : 이체액, 상대계좌 \n",
    "    def transfer(self, transfer_amount, account_num2) :\n",
    "        self.balance -= transfer_amount\n",
    "        print(\"Account_num : \", self.account_num)\n",
    "        print(\"Transfer_account : \", account_num2)\n",
    "        print(\"Balance : \", self.balance)\n",
    "        print(\"---------------------------------------\")\n",
    "    \n",
    "    # 잔액확인\n",
    "    def showbalance(self) :\n",
    "        print(\"Account_num : \", self.account_num)\n",
    "        print(\"Balance : \", self.balance)\n",
    "        print(\"---------------------------------------\")"
   ]
  },
  {
   "cell_type": "code",
   "execution_count": 3,
   "metadata": {},
   "outputs": [
    {
     "name": "stdout",
     "output_type": "stream",
     "text": [
      "Write your password : 123\n",
      "---------------------------------------\n",
      "What do you want? \n",
      "                 1. Deposit \n",
      "                 2. Withdraw \n",
      "                 3. Transfer \n",
      "                 4. showBalance \n",
      "                 0. Exit\n",
      "Num : 1\n",
      "---------------------------------------\n",
      "deposit amount : 5000\n",
      "Account_num :  111\n",
      "Balance :  55000\n",
      "---------------------------------------\n",
      "Write your password : 123\n",
      "---------------------------------------\n",
      "What do you want? \n",
      "                 1. Deposit \n",
      "                 2. Withdraw \n",
      "                 3. Transfer \n",
      "                 4. showBalance \n",
      "                 0. Exit\n",
      "Num : 2\n",
      "---------------------------------------\n",
      "withdraw amount : 60000\n",
      "Account balance is negative\n",
      "---------------------------------------\n",
      "Write your password : 123\n",
      "---------------------------------------\n",
      "What do you want? \n",
      "                 1. Deposit \n",
      "                 2. Withdraw \n",
      "                 3. Transfer \n",
      "                 4. showBalance \n",
      "                 0. Exit\n",
      "Num : 2\n",
      "---------------------------------------\n",
      "withdraw amount : 10000\n",
      "Account_num :  111\n",
      "Balance :  45000\n",
      "---------------------------------------\n",
      "Write your password : 123\n",
      "---------------------------------------\n",
      "What do you want? \n",
      "                 1. Deposit \n",
      "                 2. Withdraw \n",
      "                 3. Transfer \n",
      "                 4. showBalance \n",
      "                 0. Exit\n",
      "Num : 3\n",
      "---------------------------------------\n",
      "Transfer amount : 20000\n",
      "The other person's account : 467\n",
      "---------------------------------------\n",
      "Account_num :  111\n",
      "Transfer_account :  467\n",
      "Balance :  25000\n",
      "---------------------------------------\n",
      "Write your password : 123\n",
      "---------------------------------------\n",
      "What do you want? \n",
      "                 1. Deposit \n",
      "                 2. Withdraw \n",
      "                 3. Transfer \n",
      "                 4. showBalance \n",
      "                 0. Exit\n",
      "Num : 4\n",
      "---------------------------------------\n",
      "Account_num :  111\n",
      "Balance :  25000\n",
      "---------------------------------------\n",
      "Write your password : 123\n",
      "---------------------------------------\n",
      "What do you want? \n",
      "                 1. Deposit \n",
      "                 2. Withdraw \n",
      "                 3. Transfer \n",
      "                 4. showBalance \n",
      "                 0. Exit\n",
      "Num : 0\n",
      "---------------------------------------\n",
      "Exit\n"
     ]
    }
   ],
   "source": [
    "# 계좌 생성하고 들어가기 \n",
    "person_A = Account(account_num = \"111\", name = 'Rose', passwd = 123, balance = 50000)\n",
    "\n",
    "while True : \n",
    "    \n",
    "    # 비번 입력\n",
    "    pw_ans = int(input(\"Write your password : \"))\n",
    "    print(\"---------------------------------------\")\n",
    "    \n",
    "    # 비번 입력 틀릴 경우\n",
    "    if person_A.passwd != pw_ans :\n",
    "        print(\"It's wrong\")\n",
    "        print(\"---------------------------------------\")\n",
    "    \n",
    "    # 비번 입력 맞을 경우\n",
    "    else :\n",
    "\n",
    "        # deposit withdraw transfer showBalance 중에 뭐 볼건지 선택시키기\n",
    "        print(\"What do you want? \\n \\\n",
    "                1. Deposit \\n \\\n",
    "                2. Withdraw \\n \\\n",
    "                3. Transfer \\n \\\n",
    "                4. showBalance \\n \\\n",
    "                0. Exit\")\n",
    "\n",
    "        select_ans = int(input(\"Num : \"))\n",
    "        print(\"---------------------------------------\")\n",
    "        \n",
    "        # Exit\n",
    "        if select_ans == 0 :\n",
    "            print(\"Exit\")\n",
    "            break\n",
    "            \n",
    "        # Deposit\n",
    "        elif select_ans == 1 :\n",
    "            deposit_ans = int(input(\"deposit amount : \"))\n",
    "            person_A.deposit(deposit_ans)\n",
    "            \n",
    "        # Withdraw\n",
    "        elif select_ans == 2 :\n",
    "            withdraw_ans = int(input(\"withdraw amount : \"))\n",
    "            \n",
    "            # 지출 잔액 충분할 경우\n",
    "            if withdraw_ans <= person_A.balance :\n",
    "                person_A.withdraw(withdraw_ans)\n",
    "            \n",
    "            # 지출 잔액 부족할 경우\n",
    "            else :\n",
    "                print(\"Account balance is negative\")\n",
    "                print(\"---------------------------------------\")\n",
    "                \n",
    "        # Transfer\n",
    "        elif select_ans == 3 :\n",
    "            transfer_ans = int(input(\"Transfer amount : \"))\n",
    "            acc_num2_ans = input(\"The other person's account : \")\n",
    "            print(\"---------------------------------------\")\n",
    "            \n",
    "            person_A.transfer(transfer_ans, acc_num2_ans)\n",
    "            \n",
    "        # showBalance\n",
    "        elif select_ans == 4 :\n",
    "            person_A.showbalance()\n"
   ]
  },
  {
   "cell_type": "code",
   "execution_count": null,
   "metadata": {},
   "outputs": [],
   "source": [
    "# IIKH (Interactive Intelligent Kitchen helper)\n",
    "# 해보기"
   ]
  },
  {
   "cell_type": "markdown",
   "metadata": {},
   "source": [
    "### 모듈\n",
    "     직접 만들수도 있다\n",
    "     \n",
    "     import 사용\n",
    "     \n",
    "     from 모듈 import 함수명\n",
    "     "
   ]
  },
  {
   "cell_type": "code",
   "execution_count": 49,
   "metadata": {},
   "outputs": [
    {
     "name": "stdout",
     "output_type": "stream",
     "text": [
      "Counter({'a': 2, 'b': 1, 'c': 1})\n"
     ]
    }
   ],
   "source": [
    "l_list = ['a', 'a', 'b', 'c']\n",
    "\n",
    "# import collections\n",
    "    # collections 안에 있는 모든 함수, 클래스 다 가지고옴\n",
    "from collections import Counter\n",
    "    # Counter만 가지고 오게됨 \n",
    "    # 빨리불러와지고 메모리 조금 먹음 \n",
    "\n",
    "# cnt = collections.Counter(l_list)\n",
    "cnt = Counter(l_list)\n",
    "\n",
    "print(cnt)"
   ]
  },
  {
   "cell_type": "code",
   "execution_count": 58,
   "metadata": {},
   "outputs": [
    {
     "name": "stdout",
     "output_type": "stream",
     "text": [
      "variable e\n",
      "\n",
      "2.718281828459045\n",
      "3.141592653589793\n",
      "4.0\n",
      "1.4142135623730951\n",
      "\n",
      "2.718281828459045\n",
      "3.141592653589793\n",
      "\n",
      "2.718281828459045\n",
      "3.141592653589793\n"
     ]
    }
   ],
   "source": [
    "e = 'variable e'\n",
    "print(e)\n",
    "print()\n",
    "\n",
    "# import 시키고 났더니 e의 값이 2.718의 값이 나옴 \n",
    "from math import *\n",
    "print(e)\n",
    "print(pi)\n",
    "print(sqrt(16))\n",
    "print(sqrt(2))\n",
    "print()\n",
    "\n",
    "import math\n",
    "print(math.e) # math. 을 입력해줘야함 \n",
    "print(math.pi)\n",
    "print()\n",
    "\n",
    "import math as m # 별명 지정 가능\n",
    "print(m.e)\n",
    "print(m.pi)"
   ]
  },
  {
   "cell_type": "markdown",
   "metadata": {},
   "source": [
    "    웬만하면 이미 만들어진 생명정보 데이터 처리 프로그램을 사용하겠지만\n",
    "    \n",
    "    python으로 새로 짠다면 \n",
    "        pip, conda 패키지 매니저\n",
    "        패키지 설치\n",
    "        pandas, numpy\n",
    "        바이오파이썬      등 사용함 "
   ]
  },
  {
   "cell_type": "markdown",
   "metadata": {},
   "source": [
    "### 예외처리"
   ]
  },
  {
   "cell_type": "code",
   "execution_count": 64,
   "metadata": {},
   "outputs": [
    {
     "name": "stdout",
     "output_type": "stream",
     "text": [
      "Num1 : k\n",
      "Num2 : l\n",
      "Errorrrrrrrrr occured\n",
      "Num1 <class 'str'>\n",
      "Num2 <class 'str'>\n"
     ]
    }
   ],
   "source": [
    "def calc(i1, i2) :\n",
    "    return i1 + i2\n",
    "\n",
    "Num1 = input(\"Num1 : \")\n",
    "Num2 = input(\"Num2 : \")\n",
    "\n",
    "try :\n",
    "    Num1 = int(Num1)\n",
    "except :\n",
    "    print(\"Errorrrrrrrrr occured\")\n",
    "\n",
    "print(\"Num1\", type(Num1)) # int\n",
    "print(\"Num2\", type(Num2)) # str\n"
   ]
  },
  {
   "cell_type": "code",
   "execution_count": 67,
   "metadata": {},
   "outputs": [
    {
     "name": "stdout",
     "output_type": "stream",
     "text": [
      "Num1 : 2\n",
      "Num2 : ljh\n",
      "Num1 <class 'int'>\n",
      "Num2 <class 'str'>\n"
     ]
    }
   ],
   "source": [
    "def calc(i1, i2) :\n",
    "    return i1 + i2\n",
    "\n",
    "Num1 = input(\"Num1 : \")\n",
    "Num2 = input(\"Num2 : \")\n",
    "\n",
    "try :\n",
    "    Num1 = int(Num1)\n",
    "except ValueError :\n",
    "    print(\"Value Error\") # ValueError일때 제시됨 \n",
    "\n",
    "print(\"Num1\", type(Num1)) # int\n",
    "print(\"Num2\", type(Num2)) # str\n"
   ]
  },
  {
   "cell_type": "code",
   "execution_count": 70,
   "metadata": {},
   "outputs": [
    {
     "name": "stdout",
     "output_type": "stream",
     "text": [
      "Num1 : 2\n",
      "Num2 : ㄷ3ㄷ\n",
      "Num1 <class 'int'>\n",
      "Num2 <class 'str'>\n"
     ]
    }
   ],
   "source": [
    "def calc(i1, i2) :\n",
    "    return i1 + i2\n",
    "\n",
    "Num1 = input(\"Num1 : \")\n",
    "Num2 = input(\"Num2 : \")\n",
    "\n",
    "try :\n",
    "    Num1 = Num1[1000000]\n",
    "    Num1 = int(Num1)\n",
    "except ValueError :\n",
    "    print(\"Value Error\") # ValueError일때 제시됨 \n",
    "except :\n",
    "    print(\"다른 에러!\")\n",
    "    \n",
    "print(\"Num1\", type(Num1)) # int\n",
    "print(\"Num2\", type(Num2)) # str"
   ]
  },
  {
   "cell_type": "code",
   "execution_count": 74,
   "metadata": {},
   "outputs": [
    {
     "name": "stdout",
     "output_type": "stream",
     "text": [
      "Give age : five\n"
     ]
    },
    {
     "ename": "Exception",
     "evalue": "pleasGiveString",
     "output_type": "error",
     "traceback": [
      "\u001b[1;31m-----------------------------------------------------------------\u001b[0m",
      "\u001b[1;31mException\u001b[0m                       Traceback (most recent call last)",
      "\u001b[1;32m<ipython-input-74-99838be0cc4e>\u001b[0m in \u001b[0;36m<module>\u001b[1;34m\u001b[0m\n\u001b[0;32m      2\u001b[0m \u001b[1;33m\u001b[0m\u001b[0m\n\u001b[0;32m      3\u001b[0m \u001b[1;32mif\u001b[0m \u001b[1;32mnot\u001b[0m \u001b[0mNum1\u001b[0m\u001b[1;33m.\u001b[0m\u001b[0misdigit\u001b[0m\u001b[1;33m(\u001b[0m\u001b[1;33m)\u001b[0m \u001b[1;33m:\u001b[0m\u001b[1;33m\u001b[0m\u001b[1;33m\u001b[0m\u001b[0m\n\u001b[1;32m----> 4\u001b[1;33m     \u001b[1;32mraise\u001b[0m \u001b[0mException\u001b[0m\u001b[1;33m(\u001b[0m\u001b[1;34m'pleasGiveString'\u001b[0m\u001b[1;33m)\u001b[0m\u001b[1;33m\u001b[0m\u001b[1;33m\u001b[0m\u001b[0m\n\u001b[0m\u001b[0;32m      5\u001b[0m \u001b[1;31m#     raise Exception('pleaseGiveString')\u001b[0m\u001b[1;33m\u001b[0m\u001b[1;33m\u001b[0m\u001b[1;33m\u001b[0m\u001b[0m\n\u001b[0;32m      6\u001b[0m \u001b[1;33m\u001b[0m\u001b[0m\n",
      "\u001b[1;31mException\u001b[0m: pleasGiveString"
     ]
    }
   ],
   "source": [
    "Num1 = input(\"Give age : \")\n",
    "\n",
    "if not Num1.isdigit() :\n",
    "    raise Exception('pleasGiveString')\n",
    "    \n",
    "# 숫자 넣었을 때 문제없이 작동\n",
    "# five 넣었을 때도 문제없이 작동"
   ]
  },
  {
   "cell_type": "code",
   "execution_count": null,
   "metadata": {},
   "outputs": [],
   "source": []
  },
  {
   "cell_type": "code",
   "execution_count": null,
   "metadata": {},
   "outputs": [],
   "source": []
  },
  {
   "cell_type": "code",
   "execution_count": null,
   "metadata": {},
   "outputs": [],
   "source": []
  },
  {
   "cell_type": "code",
   "execution_count": null,
   "metadata": {},
   "outputs": [],
   "source": []
  },
  {
   "cell_type": "code",
   "execution_count": null,
   "metadata": {},
   "outputs": [],
   "source": []
  },
  {
   "cell_type": "code",
   "execution_count": null,
   "metadata": {},
   "outputs": [],
   "source": []
  }
 ],
 "metadata": {
  "kernelspec": {
   "display_name": "Python 3",
   "language": "python",
   "name": "python3"
  },
  "language_info": {
   "codemirror_mode": {
    "name": "ipython",
    "version": 3
   },
   "file_extension": ".py",
   "mimetype": "text/x-python",
   "name": "python",
   "nbconvert_exporter": "python",
   "pygments_lexer": "ipython3",
   "version": "3.7.4"
  }
 },
 "nbformat": 4,
 "nbformat_minor": 2
}
