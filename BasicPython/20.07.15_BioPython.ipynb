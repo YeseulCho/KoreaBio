{
 "cells": [
  {
   "cell_type": "markdown",
   "metadata": {},
   "source": [
    "### 20.07.15_BioPython\n",
    "    일시 : 2020/07/15\n",
    "    강사님 : 김태윤 연구원님(마크로젠) \n",
    "    기록 : 조예슬\n",
    "    내용 : \n",
    "         - "
   ]
  },
  {
   "cell_type": "code",
   "execution_count": 1,
   "metadata": {},
   "outputs": [],
   "source": [
    "# conda activate py37\n",
    "# which python "
   ]
  },
  {
   "cell_type": "code",
   "execution_count": null,
   "metadata": {},
   "outputs": [],
   "source": [
    "# 크기 비교\n",
    "\n",
    "# import sys\n",
    "# sys.float_infofo.epsilon\n",
    "\n",
    "# (0.3 / 0.2) - (1.5) < sys.float_info.epsilon # True"
   ]
  },
  {
   "cell_type": "markdown",
   "metadata": {},
   "source": [
    "### while문\n",
    "    프로그램 계속 실행함"
   ]
  },
  {
   "cell_type": "code",
   "execution_count": 1,
   "metadata": {},
   "outputs": [
    {
     "name": "stdout",
     "output_type": "stream",
     "text": [
      "while test!\n"
     ]
    }
   ],
   "source": [
    "# while , break\n",
    "\n",
    "while True:\n",
    "    print(\"while test!\")\n",
    "    break # break를 실행하면 while문을 나가게 된다 즉, while의 반복 끝 "
   ]
  },
  {
   "cell_type": "code",
   "execution_count": 2,
   "metadata": {},
   "outputs": [
    {
     "name": "stdout",
     "output_type": "stream",
     "text": [
      "while test!\t 0\n",
      "while test!\t 1\n",
      "while test!\t 2\n",
      "while test!\t 3\n",
      "while test!\t 4\n",
      "while test!\t 5\n",
      "while test!\t 6\n",
      "cnt > 5! 6\n"
     ]
    }
   ],
   "source": [
    "# while, if\n",
    "\n",
    "cnt = 0 # 변수값 지정\n",
    "\n",
    "while True :\n",
    "    print(\"while test!\\t\", cnt)\n",
    "    \n",
    "    if cnt > 5 : \n",
    "        print(\"cnt > 5!\", cnt)\n",
    "        break\n",
    "    cnt += 1 # cnt를 밑에서 추가했기에 print는 6까지 제시됨"
   ]
  },
  {
   "cell_type": "code",
   "execution_count": 3,
   "metadata": {},
   "outputs": [
    {
     "name": "stdout",
     "output_type": "stream",
     "text": [
      "while test!\t 0\n",
      "while test!\t 1\n",
      "while test!\t 2\n",
      "while test!\t 3\n",
      "while test!\t 4\n",
      "while test!\t 5\n",
      "cnt > 5! 6\n"
     ]
    }
   ],
   "source": [
    "# while, if\n",
    "\n",
    "cnt = 0 # 변수값 지정\n",
    "\n",
    "while True :\n",
    "    print(\"while test!\\t\", cnt)\n",
    "    \n",
    "    cnt += 1 # print 5까지 제시됨 \n",
    "    \n",
    "    if cnt > 5 : \n",
    "        print(\"cnt > 5!\", cnt)\n",
    "        break"
   ]
  },
  {
   "cell_type": "code",
   "execution_count": 4,
   "metadata": {},
   "outputs": [
    {
     "name": "stdout",
     "output_type": "stream",
     "text": [
      "while test!\t 1\n",
      "while test!\t 2\n",
      "continue\n",
      "continue\n",
      "continue\n",
      "cnt > 5! 6\n",
      "Done!\n"
     ]
    }
   ],
   "source": [
    "# while, continue\n",
    "\n",
    "cnt = 0 # 변수값 지정\n",
    "\n",
    "while True :\n",
    "    cnt += 1\n",
    "\n",
    "    if cnt > 5 : # 6 ~\n",
    "        print(\"cnt > 5!\", cnt)\n",
    "        break \n",
    "        \n",
    "    elif cnt > 2 : # 3 4 5\n",
    "        print(\"continue\")\n",
    "        continue  # while문의 진행을 그만두고 다시 while 처음부터 시작함 \n",
    "        \n",
    "    print(\"while test!\\t\", cnt) # 1 2\n",
    "    \n",
    "print(\"Done!\")"
   ]
  },
  {
   "cell_type": "code",
   "execution_count": null,
   "metadata": {},
   "outputs": [],
   "source": [
    "# while\n",
    "\n",
    "cnt = 0\n",
    "\n",
    "while cnt < 5 :\n",
    "    print(\"cnt :\", cnt)\n",
    "    cnt += 1 # 5보다 커진 순간에 while문을 빠져나오게 된다\n",
    "    print(\"cnt_2 :\", cnt) # 5 # while문이 끝나고 다시 처음으로 돌아갔을 때 조건문 확인이 가능함 "
   ]
  },
  {
   "cell_type": "code",
   "execution_count": 6,
   "metadata": {},
   "outputs": [
    {
     "name": "stdout",
     "output_type": "stream",
     "text": [
      "\n",
      "*\n",
      "**\n",
      "***\n",
      "****\n",
      "*****\n",
      "******\n"
     ]
    }
   ],
   "source": [
    "\"\"\"\n",
    "삼각형 그리기\n",
    "while문을 사용하여 삼각형을 출력하세요\n",
    "\"\"\"\n",
    "\n",
    "cnt = 0\n",
    "\n",
    "while cnt <= 6 :\n",
    "    print(\"*\" * cnt)\n",
    "    cnt += 1"
   ]
  },
  {
   "cell_type": "code",
   "execution_count": 12,
   "metadata": {},
   "outputs": [
    {
     "name": "stdout",
     "output_type": "stream",
     "text": [
      "**\n",
      "***\n",
      "****\n"
     ]
    }
   ],
   "source": [
    "\"\"\"\n",
    "- 강사님 \n",
    "삼각형 그리기 \n",
    "while문을 사용하여 삼각형을 출력하세요\n",
    "\"\"\"\n",
    "\n",
    "cnt = 2\n",
    "\n",
    "while (cnt < 5) and (1 < cnt) :\n",
    "    print('*' * cnt)\n",
    "    cnt += 1"
   ]
  },
  {
   "cell_type": "code",
   "execution_count": 9,
   "metadata": {},
   "outputs": [
    {
     "name": "stdout",
     "output_type": "stream",
     "text": [
      "       \n",
      "      *\n",
      "     ***\n",
      "    *****\n",
      "   *******\n",
      "  *********\n",
      " ***********\n"
     ]
    }
   ],
   "source": [
    "\"\"\"\n",
    "삼각형 그리기\n",
    "while문을 사용하여 정삼각형을 출력하세요\n",
    "\"\"\"\n",
    "\n",
    "cnt = 0\n",
    "blank = 6\n",
    "\n",
    "while cnt < 7 :\n",
    "    print(\" \" * blank, \"*\" * (2*cnt-1))\n",
    "    cnt += 1\n",
    "    blank -= 1"
   ]
  },
  {
   "cell_type": "markdown",
   "metadata": {},
   "source": [
    "### for문"
   ]
  },
  {
   "cell_type": "code",
   "execution_count": 14,
   "metadata": {},
   "outputs": [
    {
     "name": "stdout",
     "output_type": "stream",
     "text": [
      "1\n",
      "2\n",
      "3\n"
     ]
    }
   ],
   "source": [
    "# for문 사용하지 않았을 떄\n",
    "i = [1, 2, 3][0]\n",
    "print(i) # 1\n",
    "\n",
    "i = [1, 2, 3][1]\n",
    "print(i) # 1\n",
    "\n",
    "i = [1, 2, 3][2]\n",
    "print(i) # 1"
   ]
  },
  {
   "cell_type": "code",
   "execution_count": 13,
   "metadata": {},
   "outputs": [
    {
     "name": "stdout",
     "output_type": "stream",
     "text": [
      "1\n",
      "2\n",
      "3\n"
     ]
    }
   ],
   "source": [
    "# for문 사용시 \n",
    "\n",
    "for i in [1, 2, 3] :\n",
    "    print(i)"
   ]
  },
  {
   "cell_type": "code",
   "execution_count": null,
   "metadata": {},
   "outputs": [],
   "source": [
    "for i in ['사과', '복숭아', '바나나'] :\n",
    "    print(\"냉장고에 {} 있어요\".format(i))"
   ]
  },
  {
   "cell_type": "code",
   "execution_count": 16,
   "metadata": {},
   "outputs": [
    {
     "name": "stdout",
     "output_type": "stream",
     "text": [
      "8\n"
     ]
    }
   ],
   "source": [
    "cnt = 0\n",
    "\n",
    "for i in [1, 2, 3, 4] :\n",
    "    if i == 2 :\n",
    "        continue # i가 2면 실행하지 말고 넘어가라\n",
    "    cnt += i\n",
    "\n",
    "print(cnt) # 8 # 1 + 3 + 4"
   ]
  },
  {
   "cell_type": "code",
   "execution_count": 20,
   "metadata": {},
   "outputs": [
    {
     "name": "stdout",
     "output_type": "stream",
     "text": [
      "[100, 101, 102]\n",
      "[0, 1, 2, 3, 4]\n",
      "[0, 2, 4, 6, 8]\n"
     ]
    }
   ],
   "source": [
    "# range\n",
    "print(list(range(100, 103)))\n",
    "\n",
    "print(list(range(5)))\n",
    "\n",
    "print(list(range(0, 10, 2)))"
   ]
  },
  {
   "cell_type": "code",
   "execution_count": null,
   "metadata": {},
   "outputs": [],
   "source": [
    "# for, range\n",
    "for i in range(5) :\n",
    "    print(i)"
   ]
  },
  {
   "cell_type": "code",
   "execution_count": null,
   "metadata": {},
   "outputs": [],
   "source": [
    "cnt = 0\n",
    "for i in range(5) : # 0, 1, 2, 3, 4 돌게됨\n",
    "    cnt += 1\n",
    "    print('for loop', cnt, '번 실행')"
   ]
  },
  {
   "cell_type": "code",
   "execution_count": 24,
   "metadata": {},
   "outputs": [
    {
     "name": "stdout",
     "output_type": "stream",
     "text": [
      "10\n",
      "10\n"
     ]
    }
   ],
   "source": [
    "# 내장함수\n",
    "\n",
    "cnt = 0\n",
    "l_list = [1, 2, 3, 4]\n",
    "\n",
    "for i in l_list :\n",
    "    cnt += i\n",
    "print(cnt)\n",
    "\n",
    "# sum 사용\n",
    "print(sum(l_list))"
   ]
  },
  {
   "cell_type": "code",
   "execution_count": 31,
   "metadata": {},
   "outputs": [
    {
     "name": "stdout",
     "output_type": "stream",
     "text": [
      "True\n",
      "False\n",
      "True\n",
      "True\n",
      "True\n",
      "True\n",
      "False\n"
     ]
    }
   ],
   "source": [
    "# all 모두가 참이면 참, 하나라도 거짓이면 거짓 \n",
    "# any 하나만 참이면 참, 다 거짓이면 거짓\n",
    "\n",
    "print(all([True, 1]))\n",
    "\n",
    "print(all([True, 1, 0]))\n",
    "\n",
    "print(any([True, 1, 0]))\n",
    "\n",
    "print(any([True, '', 0]))\n",
    "\n",
    "# print(any([False, ]))\n",
    "\n",
    "dir('apple') # 제시되는 함수들 apple.~로 사용 할 수 있다 \n",
    "\n",
    "print('apple'.startswith('a'))\n",
    "\n",
    "print('>apple addInfo'.startswith('>'))\n",
    "\n",
    "print(not '# sfdf'.startswith('#')) # # 제외시킬때"
   ]
  },
  {
   "cell_type": "code",
   "execution_count": 35,
   "metadata": {},
   "outputs": [
    {
     "name": "stdout",
     "output_type": "stream",
     "text": [
      "2\n",
      "1\n",
      "2.3333333333333335\n",
      "(2, 1)\n",
      "2\n",
      "1\n"
     ]
    }
   ],
   "source": [
    "print(7//3)\n",
    "\n",
    "print(7%3)\n",
    "\n",
    "print(7/3)\n",
    "\n",
    "print(divmod(7, 3)) # 결과값 tuple로 나타남 # indexing 가능\n",
    "\n",
    "print(divmod(7, 3)[0]) # 몫\n",
    "\n",
    "print(divmod(7, 3)[1]) # 나머지"
   ]
  },
  {
   "cell_type": "code",
   "execution_count": 40,
   "metadata": {},
   "outputs": [
    {
     "name": "stdout",
     "output_type": "stream",
     "text": [
      "0 apple\n",
      "  a : 0\n",
      "  b : apple\n",
      "\n",
      "1 banana\n",
      "  a : 1\n",
      "  b : banana\n",
      "\n",
      "2 467\n",
      "  a : 2\n",
      "  b : 467\n",
      "\n",
      "3 3454\n",
      "  a : 3\n",
      "  b : 3454\n",
      "\n"
     ]
    }
   ],
   "source": [
    "# enumerate : list의 순서 알고싶을때, error난 곳이 몇번째 순서에서 났는지 쉽게 알 수 있다 \n",
    "\n",
    "l_list = ['apple', 'banana', 467, 3454]\n",
    "\n",
    "for a, b in enumerate(l_list) :\n",
    "    print(a, b)\n",
    "    print('  a :', a)\n",
    "    print('  b :', b)\n",
    "    print()    "
   ]
  },
  {
   "cell_type": "code",
   "execution_count": 46,
   "metadata": {},
   "outputs": [
    {
     "name": "stdout",
     "output_type": "stream",
     "text": [
      "12\n",
      "3\n",
      "5\n",
      "9\n"
     ]
    }
   ],
   "source": [
    "print(eval('5+7'))\n",
    "\n",
    "print(len([1, 2, 3]))\n",
    "\n",
    "print(len('apple'))\n",
    "\n",
    "print(len('pineapple'))"
   ]
  },
  {
   "cell_type": "code",
   "execution_count": 48,
   "metadata": {},
   "outputs": [
    {
     "name": "stdout",
     "output_type": "stream",
     "text": [
      "a\n",
      "b\n",
      "c\n",
      "d\n",
      "2\n",
      "4\n"
     ]
    }
   ],
   "source": [
    "l_list = ['apple', 'banana']\n",
    "s_str = 'abcd'\n",
    "\n",
    "for i in s_str :\n",
    "    print(i) # 문자 하나하나를 element처럼 사용하게됨 \n",
    "    \n",
    "print(len(l_list))\n",
    "print(len(s_str))"
   ]
  },
  {
   "cell_type": "code",
   "execution_count": 50,
   "metadata": {},
   "outputs": [
    {
     "name": "stdout",
     "output_type": "stream",
     "text": [
      "[3, 4]\n",
      "[0, 1, 2, 3, 4]\n",
      "4\n",
      "0\n",
      "[0, 1, 2, 3, 4]\n",
      "[1, 2, 3, 4, 5, 6]\n"
     ]
    }
   ],
   "source": [
    "print(list({3, 4}))\n",
    "\n",
    "print(list(range(5)))\n",
    "\n",
    "print(max(list(range(5))))\n",
    "\n",
    "print(min(list(range(5))))\n",
    "\n",
    "print(sorted(list(range(5))))\n",
    "\n",
    "print(sorted([1, 2, 3, 6, 4, 5]))"
   ]
  },
  {
   "cell_type": "code",
   "execution_count": 49,
   "metadata": {},
   "outputs": [
    {
     "name": "stdout",
     "output_type": "stream",
     "text": [
      "21\n",
      "<class 'list'>\n"
     ]
    }
   ],
   "source": [
    "l_list = [1, 2, 3, 4, 5, 6]\n",
    "\n",
    "print(sum(l_list))\n",
    "\n",
    "print(type(l_list))"
   ]
  },
  {
   "cell_type": "code",
   "execution_count": 7,
   "metadata": {},
   "outputs": [
    {
     "name": "stdout",
     "output_type": "stream",
     "text": [
      "구구단(0 입력시 종료) : 5\n",
      "5 * 1 = 5\n",
      "5 * 2 = 10\n",
      "5 * 3 = 15\n",
      "5 * 4 = 20\n",
      "5 * 5 = 25\n",
      "5 * 6 = 30\n",
      "5 * 7 = 35\n",
      "5 * 8 = 40\n",
      "5 * 9 = 45\n",
      "구구단(0 입력시 종료) : ㅇ\n",
      "숫자로 입력해주세요\n",
      "구구단(0 입력시 종료) : 56\n",
      "숫자 1에서 19사이로 입력해주세요\n",
      "구구단(0 입력시 종료) : 0\n",
      "Bye\n"
     ]
    }
   ],
   "source": [
    "\"\"\"\n",
    "구구단 출력하기\n",
    "for 문을 사용하여 구구단을 출력하세요\n",
    "2-19사이의 숫자를 입력 받아 입력값의 구구단을 출력하세요\n",
    "\n",
    "입력 : 2\n",
    "출력 : 2\n",
    "\n",
    "6  8  10  12  14  16  18\n",
    "\"\"\"\n",
    "gugu = 0\n",
    "\n",
    "while True :\n",
    "    \n",
    "    gugu = input(\"구구단(0 입력시 종료) : \")\n",
    "\n",
    "    if not gugu.isdigit() :\n",
    "        print(\"숫자로 입력해주세요\")\n",
    "\n",
    "    elif 0 < int(gugu) < 20 :\n",
    "        for i in range(1, 10) :\n",
    "            print(\"{} * {} = {}\".format(int(gugu), i, int(gugu) * i))\n",
    "            \n",
    "    elif int(gugu) == 0 :\n",
    "        print(\"Bye\")\n",
    "        break\n",
    "\n",
    "    else :\n",
    "        print(\"숫자 1에서 19사이로 입력해주세요\")"
   ]
  },
  {
   "cell_type": "code",
   "execution_count": 2,
   "metadata": {},
   "outputs": [
    {
     "name": "stdout",
     "output_type": "stream",
     "text": [
      "give me dan :w\n",
      "give me dan :k\n",
      "give me dan :27\n",
      "give me dan :39\n",
      "give me dan :2\n",
      "2 Dan\n",
      "4\n",
      "6\n",
      "8\n",
      "10\n",
      "12\n",
      "14\n",
      "16\n",
      "18\n",
      "20\n"
     ]
    }
   ],
   "source": [
    "\"\"\"\n",
    "- 강사님 \n",
    "구구단 출력하기\n",
    "for 문을 사용하여 구구단을 출력하세요\n",
    "2-19사이의 숫자를 입력 받아 입력값의 구구단을 출력하세요\n",
    "\n",
    "입력 : 2\n",
    "출력 : 2\n",
    "\n",
    "6  8  10  12  14  16  18\n",
    "\"\"\"\n",
    "dan = 0\n",
    "while True : \n",
    "    dan = input('give me dan :')\n",
    "    if not dan.isdigit() :\n",
    "        continue\n",
    "        \n",
    "    elif 2 <= int(dan) <= 19 :\n",
    "        break\n",
    "        \n",
    "print(dan, 'Dan')\n",
    "\n",
    "for i in range(2, 20) :\n",
    "    print(i * int(dan))\n",
    "    if i == 10 :\n",
    "        break"
   ]
  },
  {
   "cell_type": "code",
   "execution_count": 3,
   "metadata": {},
   "outputs": [
    {
     "name": "stdout",
     "output_type": "stream",
     "text": [
      "num1 : 100\n",
      "num2 : 200\n",
      "sum :  7500\n"
     ]
    }
   ],
   "source": [
    "\"\"\"\n",
    "The sum of all odd from 'a' through 'b'\n",
    "\n",
    "Conditions and Loops\n",
    "\n",
    "Given : Two positive inegers a and b(a < b < 10000)\n",
    "Return : The sum of all odd integers from a through b, inclusively\n",
    "\n",
    "Sample Dataset : 100 200\n",
    "Sample Output : 7500\n",
    "\"\"\"\n",
    "\n",
    "num_start = int(input(\"num1 : \"))\n",
    "num_end = int(input(\"num2 : \"))\n",
    "\n",
    "odd_sum = 0\n",
    "\n",
    "for i in range(num_start, num_end +1) :\n",
    "    if i % 2 == 0 :\n",
    "        continue\n",
    "        \n",
    "    elif i % 2 == 1:\n",
    "        odd_sum += i\n",
    "        \n",
    "print(\"sum : \", odd_sum)"
   ]
  },
  {
   "cell_type": "code",
   "execution_count": 6,
   "metadata": {},
   "outputs": [
    {
     "name": "stdout",
     "output_type": "stream",
     "text": [
      "first : 100\n",
      "second : 200\n",
      "7500\n"
     ]
    }
   ],
   "source": [
    "\"\"\"\n",
    "- 강사님1\n",
    "The sum of all odd from 'a' through 'b'\n",
    "\n",
    "Conditions and Loops\n",
    "\n",
    "Given : Two positive inegers a and b(a < b < 10000)\n",
    "Return : The sum of all odd integers from a through b, inclusively\n",
    "\n",
    "Sample Dataset : 100 200\n",
    "Sample Output : 7500\n",
    "\"\"\"\n",
    "fir = int(input(\"first : \"))\n",
    "sec = int(input(\"second : \"))\n",
    "\n",
    "result = 0\n",
    "\n",
    "for i in range(fir, sec + 1) : \n",
    "    if i % 2 == 1 : # 홀수\n",
    "        result += i   \n",
    "print(result)        "
   ]
  },
  {
   "cell_type": "code",
   "execution_count": 10,
   "metadata": {},
   "outputs": [
    {
     "name": "stdout",
     "output_type": "stream",
     "text": [
      "first : 100\n",
      "second : 200\n",
      "7500\n"
     ]
    }
   ],
   "source": [
    "\"\"\"\n",
    "- 강사님2\n",
    "The sum of all odd from 'a' through 'b'\n",
    "\n",
    "Conditions and Loops\n",
    "\n",
    "Given : Two positive inegers a and b(a < b < 10000)\n",
    "Return : The sum of all odd integers from a through b, inclusively\n",
    "\n",
    "Sample Dataset : 100 200\n",
    "Sample Output : 7500\n",
    "\"\"\"\n",
    "fir = int(input(\"first : \"))\n",
    "sec = int(input(\"second : \"))\n",
    "\n",
    "result = 0\n",
    "\n",
    "l_odd = [] # add odds\n",
    "\n",
    "for i in range(fir, sec + 1) : \n",
    "\n",
    "    if i % 2 == 1 : # 홀수\n",
    "        l_odd.append(i)\n",
    "# print(l_odd)  \n",
    "result = sum(l_odd)\n",
    "print(result)"
   ]
  },
  {
   "cell_type": "code",
   "execution_count": 11,
   "metadata": {},
   "outputs": [
    {
     "name": "stdout",
     "output_type": "stream",
     "text": [
      "first : 100\n",
      "second : 200\n",
      "7500\n"
     ]
    }
   ],
   "source": [
    "\"\"\"\n",
    "- 강사님3\n",
    "The sum of all odd from 'a' through 'b'\n",
    "\n",
    "Conditions and Loops\n",
    "\n",
    "Given : Two positive inegers a and b(a < b < 10000)\n",
    "Return : The sum of all odd integers from a through b, inclusively\n",
    "\n",
    "Sample Dataset : 100 200\n",
    "Sample Output : 7500\n",
    "\"\"\"\n",
    "fir = int(input(\"first : \"))\n",
    "sec = int(input(\"second : \"))\n",
    "\n",
    "result = 0\n",
    "\n",
    "l_odd = [] # add odds\n",
    "\n",
    "a = set(range(fir))\n",
    "b = set(range(sec + 1))\n",
    "s_set = b - a\n",
    "\n",
    "for i in s_set : \n",
    "\n",
    "    if i % 2 == 1 : # 홀수\n",
    "        l_odd.append(i)\n",
    "# print(l_odd)  \n",
    "result = sum(l_odd)\n",
    "print(result)"
   ]
  },
  {
   "cell_type": "code",
   "execution_count": 1,
   "metadata": {},
   "outputs": [
    {
     "name": "stdout",
     "output_type": "stream",
     "text": [
      "{('dicts', 1), ('also', 1), ('Zen', 1), ('We', 1), ('we', 2), ('tried', 3), ('and', 1), ('list', 1)}\n"
     ]
    }
   ],
   "source": [
    "\"\"\"\n",
    "Dictionary \n",
    "\n",
    "스페이스로 구분되어있는 문자열\n",
    "문자의 개수와 종류를 출력하기\n",
    "\n",
    "s_str = 'We tried list and we tried dicts also we tried Zen'\n",
    "\"\"\"\n",
    "\n",
    "s_str = 'We tried list and we tried dicts also we tried Zen'\n",
    "\n",
    "s_str = s_str.split(\" \")\n",
    "\n",
    "list_str = []\n",
    "\n",
    "for i in range(len(s_str)) :\n",
    "    count_str = s_str.count(s_str[i])\n",
    "    result = s_str[i], count_str\n",
    "    list_str.append(result)\n",
    "\n",
    "set_str = set(list_str)\n",
    "print(set_str)"
   ]
  },
  {
   "cell_type": "code",
   "execution_count": 4,
   "metadata": {},
   "outputs": [
    {
     "data": {
      "text/plain": [
       "[('We', 1),\n",
       " ('tried', 3),\n",
       " ('list', 1),\n",
       " ('and', 1),\n",
       " ('we', 2),\n",
       " ('tried', 3),\n",
       " ('dicts', 1),\n",
       " ('also', 1),\n",
       " ('we', 2),\n",
       " ('tried', 3),\n",
       " ('Zen', 1)]"
      ]
     },
     "execution_count": 4,
     "metadata": {},
     "output_type": "execute_result"
    }
   ],
   "source": [
    "list_str"
   ]
  },
  {
   "cell_type": "code",
   "execution_count": 15,
   "metadata": {},
   "outputs": [
    {
     "name": "stdout",
     "output_type": "stream",
     "text": [
      "{'We': 1, 'tried': 3, 'list': 1, 'and': 1, 'we': 2, 'dicts': 1, 'also': 1, 'Zen': 1}\n"
     ]
    }
   ],
   "source": [
    "\"\"\"\n",
    "- 강사님1\n",
    "Dictionary \n",
    "\n",
    "스페이스로 구분되어있는 문자열\n",
    "문자의 개수와 종류를 출력하기\n",
    "\n",
    "s_str = 'We tried list and we tried dicts also we tried Zen'\n",
    "\"\"\"\n",
    "\n",
    "s_str = 'We tried list and we tried dicts also we tried Zen'\n",
    "\n",
    "l_str = s_str.split(' ')\n",
    "\n",
    "d_cnt = {}\n",
    "\n",
    "for i in l_str :\n",
    "    if i not in d_cnt : # 단어가 d_cnt에 없으면 1로 지정해주기\n",
    "        d_cnt[i] = 1 # 처음에 하나 나오면 1개이니까\n",
    "    \n",
    "    else :\n",
    "        d_cnt[i] += 1 # 데이터 삽입 수정 가능함 \n",
    "\n",
    "print(d_cnt)"
   ]
  },
  {
   "cell_type": "code",
   "execution_count": 16,
   "metadata": {},
   "outputs": [],
   "source": [
    "# import collections"
   ]
  },
  {
   "cell_type": "code",
   "execution_count": 19,
   "metadata": {},
   "outputs": [
    {
     "name": "stdout",
     "output_type": "stream",
     "text": [
      "Counter({'tried': 3, 'we': 2, 'We': 1, 'list': 1, 'and': 1, 'dicts': 1, 'also': 1, 'Zen': 1})\n"
     ]
    }
   ],
   "source": [
    "\"\"\"\n",
    "- 강사님2\n",
    "Dictionary \n",
    "\n",
    "스페이스로 구분되어있는 문자열\n",
    "문자의 개수와 종류를 출력하기\n",
    "\n",
    "s_str = 'We tried list and we tried dicts also we tried Zen'\n",
    "\"\"\"\n",
    "# import collections\n",
    "\n",
    "s_str = 'We tried list and we tried dicts also we tried Zen'\n",
    "\n",
    "l_str = s_str.split(' ')\n",
    "\n",
    "cnt = collections.Counter(l_str)\n",
    "print(cnt)\n",
    "\n",
    "A = ['a', 'b', 'a', 'c', 'd', 'f']\n",
    "B = ['b', 'c', 'd', 'e', 'e', 'e']\n",
    "C = ['q', 'w', 'e', 'r', 't', 'y', 'y', 'y']\n",
    "\n",
    "a_cnt = collections.Counter(A)\n",
    "a_cnt = collections.Counter(A)"
   ]
  },
  {
   "cell_type": "code",
   "execution_count": null,
   "metadata": {},
   "outputs": [],
   "source": [
    " # Counter\n",
    "  4 import collections\n",
    "  5\n",
    "  6 A = ['a', 'b', 'a', 'c', 'd', 'f']s\n",
    "  7 B = ['b', 'c', 'b', 'd', 'e', 'e', 'e']\n",
    "  8 C = ['q', 'w', 'e', 'r', 't', 'y', 'y', 'y']\n",
    "  9\n",
    " 10 a_cnt = collections.Counter(A)\n",
    " 11 b_cnt = collections.Counter(B)\n",
    " 12 c_cnt = collections.Counter(C)\n",
    " 13\n",
    " 14 print(A)\n",
    " 15 print(B)\n",
    " 16 print(C)\n",
    " 17 print()\n",
    " 18\n",
    " 19 print(a_cnt)\n",
    " 20 print(b_cnt)\n",
    " 21 print(c_cnt)\n",
    " 22 print()\n",
    "\n",
    " 26 A = ['a', 'b', 'a', 'c', 'd', 'f']\n",
    " 27 B = ['b', 'c', 'b', 'd', 'e', 'e', 'e']\n",
    " 28 C = ['q', 'w', 'e', 'r', 't', 'y', 'y', 'y']\n",
    " 29\n",
    " 30 a_cnt = collections.Counter(A)\n",
    " 31 b_cnt = collections.Counter(B)\n",
    " 32 c_cnt = collections.Counter(C)\n",
    " 33\n",
    " 34 print(A)\n",
    " 35 print(B)\n",
    " 36 print(C)\n",
    " 37 print()\n",
    " 38\n",
    " 39 print(a_cnt)\n",
    " 40 print(b_cnt)\n",
    " 41 print(c_cnt)\n",
    " 42 print()\n",
    " 43\n",
    " 44 a_cnt['a'] += 5 # 5가 더해진 상태로 counter의 변환이 일어남\n",
    " 45 print(a_cnt)\n",
    " 46 print()\n",
    "\n",
    " 48 print(a_cnt & b_cnt) # a와 b가 공통적으로 가지고 있는 것 제시\n",
    " 49 print()\n",
    " 50\n",
    " 51 print(a_cnt + b_cnt) # 유전자 발현양 등등 계산시\n",
    " 52 print()\n",
    " 53\n",
    " 54 print(a_cnt - b_cnt)\n"
   ]
  },
  {
   "cell_type": "code",
   "execution_count": null,
   "metadata": {},
   "outputs": [],
   "source": []
  }
 ],
 "metadata": {
  "kernelspec": {
   "display_name": "Python 3",
   "language": "python",
   "name": "python3"
  },
  "language_info": {
   "codemirror_mode": {
    "name": "ipython",
    "version": 3
   },
   "file_extension": ".py",
   "mimetype": "text/x-python",
   "name": "python",
   "nbconvert_exporter": "python",
   "pygments_lexer": "ipython3",
   "version": "3.7.4"
  }
 },
 "nbformat": 4,
 "nbformat_minor": 2
}
